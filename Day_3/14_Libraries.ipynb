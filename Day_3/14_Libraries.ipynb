{
 "cells": [
  {
   "cell_type": "markdown",
   "metadata": {},
   "source": [
    "# Libraries\n",
    "\n",
    "**Time**\n",
    "- teaching: 5\n",
    "- exercises: 5\n",
    "\n",
    "**Questions**:\n",
    "- \"How can I use software that other people have written?\"\n",
    "- \"How can I find out what that software does?\"\n",
    "**Learning Objectives**:\n",
    "- \"Explain what software libraries are and why programmers create and use them.\"\n",
    "- \"Write programs that import and use libraries from Python's standard library.\"\n",
    "- \"Find and read documentation for standard libraries interactively (in the interpreter) and online.\"\n",
    "\n",
    "**Keypoints**:\n",
    "- \"Most of the power of a programming language is in its libraries.\"\n",
    "- \"A program must import a library in order to use it.\"\n",
    "- \"Use `help` to find out more about a library's contents.\"\n",
    "- \"Import specific items from a library to shorten programs.\"\n",
    "- \"Create an alias for a library when importing it to shorten programs.\"\n",
    "\n",
    "*****\n",
    "\n",
    "## Most of the power of a programming language is in its libraries.\n",
    "\n",
    "*   A *library* is a collection of functions that can be used by other programs.\n",
    "    *   May also contain data values (e.g., numerical constants).\n",
    "    *   Library's contents are supposed to be related, but there's no way to enforce that.\n",
    "*   Python's [standard library][stdlib] is installed with it.\n",
    "*   Many additional libraries are available from [PyPI][pypi] (the Python Package Index).\n",
    "*   We will see later how to write new libraries.\n",
    "\n",
    "## A program must import a library in order to use it.\n",
    "\n",
    "*   Use `import` to load a library into a program's memory.\n",
    "*   Then refer to things from the library as `library_name.thing_name`.\n",
    "    *   Python uses `.` to mean \"part of\"."
   ]
  },
  {
   "cell_type": "code",
   "execution_count": 1,
   "metadata": {
    "collapsed": false
   },
   "outputs": [
    {
     "name": "stdout",
     "output_type": "stream",
     "text": [
      "pi is 3.141592653589793\n",
      "cos(pi) is -1.0\n"
     ]
    }
   ],
   "source": [
    "import math\n",
    "\n",
    "print('pi is', math.pi)\n",
    "print('cos(pi) is', math.cos(math.pi))"
   ]
  },
  {
   "cell_type": "markdown",
   "metadata": {},
   "source": [
    "*   Have to refer to each item with the library's name.\n",
    "    *   `math.cos(pi)` won't work: the reference to `pi` doesn't somewhow \"inherit\" the function's reference to `math`.\n",
    "\n",
    "## Use `help` to find out more about a library's contents.\n",
    "\n",
    "*   Works just like help for a function."
   ]
  },
  {
   "cell_type": "code",
   "execution_count": null,
   "metadata": {
    "collapsed": true
   },
   "outputs": [],
   "source": [
    "help(math)"
   ]
  },
  {
   "cell_type": "markdown",
   "metadata": {},
   "source": [
    "## Import specific items from a library to shorten programs.\n",
    "\n",
    "*   Use `from...import...` to load only specific items from a library.\n",
    "*   Then refer to them directly without library name as prefix.\n"
   ]
  },
  {
   "cell_type": "code",
   "execution_count": 3,
   "metadata": {
    "collapsed": false
   },
   "outputs": [
    {
     "name": "stdout",
     "output_type": "stream",
     "text": [
      "cos(pi) is -1.0\n"
     ]
    }
   ],
   "source": [
    "from math import cos, pi\n",
    "\n",
    "print('cos(pi) is', cos(pi))"
   ]
  },
  {
   "cell_type": "markdown",
   "metadata": {},
   "source": [
    "## Create an alias for a library when importing it to shorten programs.\n",
    "\n",
    "*   Use `import...as...` to give a library a short *alias* while importing it.\n",
    "*   Then refer to items in the library using that shortened name."
   ]
  },
  {
   "cell_type": "code",
   "execution_count": 8,
   "metadata": {
    "collapsed": false
   },
   "outputs": [
    {
     "name": "stdout",
     "output_type": "stream",
     "text": [
      "cos(pi) is -1.0\n"
     ]
    }
   ],
   "source": [
    "import math as m\n",
    "\n",
    "print('cos(pi) is', m.cos(m.pi))"
   ]
  },
  {
   "cell_type": "markdown",
   "metadata": {},
   "source": [
    "*   Commonly used for libraries that are frequently used or have long names.\n",
    "    *   E.g., `matplotlib` plotting library is often aliased as `mpl`.\n",
    "*   But can make programs harder to understand,\n",
    "    since readers must learn your program's aliases."
   ]
  },
  {
   "cell_type": "markdown",
   "metadata": {},
   "source": [
    "## Challenge 1: Locating the Right Library\n",
    "\n",
    "You want to select a random value from your data:"
   ]
  },
  {
   "cell_type": "code",
   "execution_count": 6,
   "metadata": {
    "collapsed": true
   },
   "outputs": [],
   "source": [
    " ids = [1, 2, 3, 4, 5, 6]"
   ]
  },
  {
   "cell_type": "markdown",
   "metadata": {},
   "source": [
    "1. What [standard library][stdlib]    would you most expect to help?\n",
    "2. Which function would you select from that library? Are there alternatives?\n",
    "\n",
    "[pypi]: https://pypi.python.org/pypi/\n",
    "[stdlib]: https://docs.python.org/3/library/"
   ]
  },
  {
   "cell_type": "markdown",
   "metadata": {},
   "source": [
    "## Challenge 2: Exploring the Math Library\n",
    "\n",
    " 1. What function from the `math` library can you use to calculate a square root\n",
    "    *without* using `sqrt`?\n",
    " 2. Since the library contains this function, why does `sqrt` exist?"
   ]
  },
  {
   "cell_type": "markdown",
   "metadata": {},
   "source": [
    "## Challenge 3: When Is Help Available?\n",
    "\n",
    "When a colleague of yours types `help(math)`,\n",
    "Python reports an error:\n",
    "\n",
    "> ~~~\n",
    "> NameError: name 'math' is not defined\n",
    "> ~~~\n",
    "\n",
    "What has your colleague forgotten to do?"
   ]
  },
  {
   "cell_type": "markdown",
   "metadata": {},
   "source": [
    "## Challenge 4:  Importing With Aliases\n",
    "\n",
    "1. Fill in the blanks so that the program below prints `90.0`.\n",
    "2. Rewrite the program so that it uses `import` *without* `as`.\n",
    "3. Which form do you find easier to read?"
   ]
  },
  {
   "cell_type": "code",
   "execution_count": 7,
   "metadata": {
    "collapsed": false
   },
   "outputs": [
    {
     "ename": "NameError",
     "evalue": "name '____' is not defined",
     "output_type": "error",
     "traceback": [
      "\u001b[0;31m---------------------------------------------------------------------------\u001b[0m",
      "\u001b[0;31mNameError\u001b[0m                                 Traceback (most recent call last)",
      "\u001b[0;32m<ipython-input-7-5c76bb2d3578>\u001b[0m in \u001b[0;36m<module>\u001b[0;34m()\u001b[0m\n\u001b[1;32m      1\u001b[0m \u001b[0;32mimport\u001b[0m \u001b[0mmath\u001b[0m \u001b[0;32mas\u001b[0m \u001b[0mm\u001b[0m\u001b[0;34m\u001b[0m\u001b[0m\n\u001b[0;32m----> 2\u001b[0;31m \u001b[0mangle\u001b[0m \u001b[0;34m=\u001b[0m \u001b[0m____\u001b[0m\u001b[0;34m.\u001b[0m\u001b[0mdegrees\u001b[0m\u001b[0;34m(\u001b[0m\u001b[0m____\u001b[0m\u001b[0;34m.\u001b[0m\u001b[0mpi\u001b[0m \u001b[0;34m/\u001b[0m \u001b[0;36m2\u001b[0m\u001b[0;34m)\u001b[0m\u001b[0;34m\u001b[0m\u001b[0m\n\u001b[0m\u001b[1;32m      3\u001b[0m \u001b[0mprint\u001b[0m\u001b[0;34m(\u001b[0m\u001b[0m____\u001b[0m\u001b[0;34m)\u001b[0m\u001b[0;34m\u001b[0m\u001b[0m\n",
      "\u001b[0;31mNameError\u001b[0m: name '____' is not defined"
     ]
    }
   ],
   "source": [
    "import math as m\n",
    "angle = ____.degrees(____.pi / 2)\n",
    "print(____)"
   ]
  },
  {
   "cell_type": "markdown",
   "metadata": {},
   "source": [
    "## Challenge 5: Importing Specific Items\n",
    "\n",
    "1. Fill in the blanks so that the program below prints `90.0`.\n",
    "2. Do you find this easier to read than preceding versions?\n",
    "3. Why *would't* programmers always use this form of `import`?"
   ]
  },
  {
   "cell_type": "code",
   "execution_count": 9,
   "metadata": {
    "collapsed": false
   },
   "outputs": [
    {
     "ename": "SyntaxError",
     "evalue": "invalid syntax (<ipython-input-9-087c17cc7b47>, line 1)",
     "output_type": "error",
     "traceback": [
      "\u001b[0;36m  File \u001b[0;32m\"<ipython-input-9-087c17cc7b47>\"\u001b[0;36m, line \u001b[0;32m1\u001b[0m\n\u001b[0;31m    ____ math import ____, ____\u001b[0m\n\u001b[0m            ^\u001b[0m\n\u001b[0;31mSyntaxError\u001b[0m\u001b[0;31m:\u001b[0m invalid syntax\n"
     ]
    }
   ],
   "source": [
    "____ math import ____, ____\n",
    "angle = degrees(pi / 2)\n",
    "print(angle)"
   ]
  }
 ],
 "metadata": {
  "kernelspec": {
   "display_name": "Python 3",
   "language": "python",
   "name": "python3"
  },
  "language_info": {
   "codemirror_mode": {
    "name": "ipython",
    "version": 3
   },
   "file_extension": ".py",
   "mimetype": "text/x-python",
   "name": "python",
   "nbconvert_exporter": "python",
   "pygments_lexer": "ipython3",
   "version": "3.4.3"
  }
 },
 "nbformat": 4,
 "nbformat_minor": 0
}
