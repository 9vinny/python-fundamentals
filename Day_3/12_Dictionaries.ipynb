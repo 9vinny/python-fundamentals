{
 "cells": [
  {
   "cell_type": "markdown",
   "metadata": {},
   "source": [
    "# Dictionaries\n",
    "\n",
    "**Time**\n",
    "- Teaching: 10 min\n",
    "- Exercises: 10 min\n",
    "\n",
    "**Questions**:\n",
    "- \"How can I store more complicated data?\"\n",
    "- \"How can I retrieve complicated data efficiently?\"\n",
    "\n",
    "**Learning Objectives**:\n",
    "- \"Understand the fundamentals of a dictionary.\"\n",
    "- \"Understand advantages and disadvantages of a dictionary compared to a list.\"\n",
    "- \"Iterate through dictionaries.\"\n",
    "* * * * *"
   ]
  },
  {
   "cell_type": "markdown",
   "metadata": {},
   "source": [
    "## A python dictionary is a collection of key, value pairs. \n",
    "\n",
    "- The **key** is a way to name the data, and the **value** is the data itself. \n",
    "- Dictionaries are very powerful, especially when working with data"
   ]
  },
  {
   "cell_type": "code",
   "execution_count": 1,
   "metadata": {
    "collapsed": false
   },
   "outputs": [],
   "source": [
    "poets_dict = {\"name\": \"Forough Farrokhzad\", \\\n",
    "            \"year of birth\": 1935, \\\n",
    "            \"year of death\": 1967, \\\n",
    "            \"place of birth\": \"Iran\", \\\n",
    "            \"language\": \"Persian\"}"
   ]
  },
  {
   "cell_type": "markdown",
   "metadata": {},
   "source": [
    "- The keys have to be **unique** and **immutable**. The usual suspects are strings and integers.\n",
    "- The values can be anything, including lists, and even other dictionaries"
   ]
  },
  {
   "cell_type": "code",
   "execution_count": 2,
   "metadata": {
    "collapsed": false
   },
   "outputs": [],
   "source": [
    "poets_dict = {\"name\": \"Forough Farrokhzad\", \\\n",
    "            \"year of birth\": 1935, \\\n",
    "            \"year of death\": 1967, \\\n",
    "            \"place of birth\": \"Iran\", \\\n",
    "            \"language\": \"Persian\", \\\n",
    "            \"works\": [\"Remembrance of a Day\",\"Unison\",\"The Shower of Your Hair\",\"Portrait of Forough\"]}"
   ]
  },
  {
   "cell_type": "markdown",
   "metadata": {},
   "source": [
    "- key/value pairs are **unordered**. Even though they print in a particular way, this doesn't mean that one comes before the other.'"
   ]
  },
  {
   "cell_type": "code",
   "execution_count": 3,
   "metadata": {
    "collapsed": false
   },
   "outputs": [
    {
     "name": "stdout",
     "output_type": "stream",
     "text": [
      "{'year of birth': 1935, 'place of birth': 'Iran', 'works': ['Remembrance of a Day', 'Unison', 'The Shower of Your Hair', 'Portrait of Forough'], 'name': 'Forough Farrokhzad', 'language': 'Persian', 'year of death': 1967}\n"
     ]
    }
   ],
   "source": [
    "print(poets_dict)"
   ]
  },
  {
   "cell_type": "markdown",
   "metadata": {},
   "source": [
    "## Use dictionary keys to access the values\n",
    "\n",
    "- Instead of using indices to extract items, dictionaries uses key-value pairs to find and retreive information."
   ]
  },
  {
   "cell_type": "code",
   "execution_count": 4,
   "metadata": {
    "collapsed": false
   },
   "outputs": [
    {
     "name": "stdout",
     "output_type": "stream",
     "text": [
      "dict_keys(['year of birth', 'place of birth', 'works', 'name', 'language', 'year of death'])\n",
      "dict_values([1935, 'Iran', ['Remembrance of a Day', 'Unison', 'The Shower of Your Hair', 'Portrait of Forough'], 'Forough Farrokhzad', 'Persian', 1967])\n"
     ]
    }
   ],
   "source": [
    "print(poets_dict.keys())\n",
    "print(poets_dict.values())"
   ]
  },
  {
   "cell_type": "markdown",
   "metadata": {},
   "source": [
    "- If you wanted the value of a particular key:"
   ]
  },
  {
   "cell_type": "code",
   "execution_count": 5,
   "metadata": {
    "collapsed": false
   },
   "outputs": [
    {
     "data": {
      "text/plain": [
       "'Forough Farrokhzad'"
      ]
     },
     "execution_count": 5,
     "metadata": {},
     "output_type": "execute_result"
    }
   ],
   "source": [
    "poets_dict[\"name\"]"
   ]
  },
  {
   "cell_type": "markdown",
   "metadata": {},
   "source": [
    "- Or perhaps you wanted the last element of the `works` list"
   ]
  },
  {
   "cell_type": "code",
   "execution_count": 6,
   "metadata": {
    "collapsed": false
   },
   "outputs": [
    {
     "data": {
      "text/plain": [
       "'Portrait of Forough'"
      ]
     },
     "execution_count": 6,
     "metadata": {},
     "output_type": "execute_result"
    }
   ],
   "source": [
    "poets_dict[\"works\"][-1]"
   ]
  },
  {
   "cell_type": "markdown",
   "metadata": {},
   "source": [
    "## Once a dictionary has been created, you can change the values of the data. \n",
    "\n",
    "This is because its a [`mutable`](A1_Glossary.md#mutable) object."
   ]
  },
  {
   "cell_type": "code",
   "execution_count": 7,
   "metadata": {
    "collapsed": false
   },
   "outputs": [
    {
     "name": "stdout",
     "output_type": "stream",
     "text": [
      "{'year of birth': 1935, 'place of birth': 'Iran', 'works': ['Remembrance of a Day', 'Unison', 'The Shower of Your Hair', 'Portrait of Forough'], 'name': 'Forough Farrokhzad', 'language': 'Farsi', 'year of death': 1967}\n"
     ]
    }
   ],
   "source": [
    "poets_dict[\"language\"] = \"Farsi\"\n",
    "print(poets_dict)"
   ]
  },
  {
   "cell_type": "markdown",
   "metadata": {},
   "source": [
    "## You can also add new keys to the dictionary.  \n",
    "\n",
    "- Note that dictionaries are \"indexed\" with square braces, just like lists--they look the same, even though they're very different."
   ]
  },
  {
   "cell_type": "code",
   "execution_count": 8,
   "metadata": {
    "collapsed": false
   },
   "outputs": [
    {
     "name": "stdout",
     "output_type": "stream",
     "text": [
      "{'year of birth': 1935, 'place of birth': 'Iran', 'works': ['Remembrance of a Day', 'Unison', 'The Shower of Your Hair', 'Portrait of Forough'], 'gender': 'Female', 'name': 'Forough Farrokhzad', 'language': 'Farsi', 'year of death': 1967}\n"
     ]
    }
   ],
   "source": [
    "poets_dict[\"gender\"] = \"Female\"\n",
    "print(poets_dict)"
   ]
  },
  {
   "cell_type": "markdown",
   "metadata": {},
   "source": [
    "## Dictionaries have their own methods.\n",
    "\n",
    "- We saw this above when we accessed the **keys** and **values**.\n",
    "- You can also get a list of keys *and* values"
   ]
  },
  {
   "cell_type": "code",
   "execution_count": 9,
   "metadata": {
    "collapsed": false
   },
   "outputs": [
    {
     "data": {
      "text/plain": [
       "dict_items([('year of birth', 1935), ('place of birth', 'Iran'), ('works', ['Remembrance of a Day', 'Unison', 'The Shower of Your Hair', 'Portrait of Forough']), ('gender', 'Female'), ('name', 'Forough Farrokhzad'), ('language', 'Farsi'), ('year of death', 1967)])"
      ]
     },
     "execution_count": 9,
     "metadata": {},
     "output_type": "execute_result"
    }
   ],
   "source": [
    "poets_dict.items()"
   ]
  },
  {
   "cell_type": "markdown",
   "metadata": {},
   "source": [
    "## You can loop through dictionaries\n",
    "\n",
    "- There are several ways to loop through dictionaries. Looping over `.keys()` is the most common.\n",
    "- Note the order is non-deterministic."
   ]
  },
  {
   "cell_type": "code",
   "execution_count": 10,
   "metadata": {
    "collapsed": false
   },
   "outputs": [
    {
     "name": "stdout",
     "output_type": "stream",
     "text": [
      "pears 1.49\n",
      "oranges 0.99\n",
      "bananas 0.32\n",
      "apples 0.49\n"
     ]
    }
   ],
   "source": [
    "d = {'apples': 0.49, 'oranges': 0.99, 'pears': 1.49, 'bananas': 0.32}\n",
    "\n",
    "for key in d.keys():\n",
    "    print(key, d[key])"
   ]
  },
  {
   "cell_type": "markdown",
   "metadata": {},
   "source": [
    "* this makes it really easy to, say, change the value of items in the dictionary:"
   ]
  },
  {
   "cell_type": "code",
   "execution_count": 11,
   "metadata": {
    "collapsed": false
   },
   "outputs": [
    {
     "name": "stdout",
     "output_type": "stream",
     "text": [
      "{'pears': 1.56, 'oranges': 1.04, 'bananas': 0.34, 'apples': 0.51}\n"
     ]
    }
   ],
   "source": [
    "# add tax\n",
    "d = {'apples': 0.49, 'oranges': 0.99, 'pears': 1.49, 'bananas': 0.32}\n",
    "\n",
    "for key in d.keys():\n",
    "    d[key] = round(1.05 * d[key], 2)\n",
    "\n",
    "print(d)"
   ]
  },
  {
   "cell_type": "markdown",
   "metadata": {},
   "source": [
    "## Dictionaries vs. Lists"
   ]
  },
  {
   "cell_type": "markdown",
   "metadata": {},
   "source": [
    "In general, if you need data to be ordered or you have only simple data not needing to be subsetted, use a list.\n",
    "\n",
    "If the data is complex and hierarchical, the dictionary's `key` / `value` strcuture is very helpful. If you are only concerned about membership in a collection, dictionaries will always be much faster to reference, as the computer doesn't have to keep track of order. And of course, you can put a list (or even another dictionary!) inside a dictionary as the `value`."
   ]
  },
  {
   "cell_type": "markdown",
   "metadata": {},
   "source": [
    "## Challenge 1: Make your own\n",
    "\n",
    "Dictionaries can be nested, which means that dictionary keys can contain dictionaries themselves.\n",
    "\n",
    "1. Create two dictionaries, each representing one of your favorite musical artist. Each dictionary should have the following keys / value-type: `name`: (string) , `genre`: (string), `songs` (list), `age`: (integer)\n",
    "\n",
    "2. Create an outer dictionary called `musical_artists` that contain the two inner dictionaries."
   ]
  },
  {
   "cell_type": "markdown",
   "metadata": {},
   "source": [
    "## Challenge 2: Compute the cost\n",
    "\n",
    "Using the dictionary below and a for loop, to calculate how much it'll cost you to buy 2 pieces of each fruit."
   ]
  },
  {
   "cell_type": "code",
   "execution_count": null,
   "metadata": {
    "collapsed": true
   },
   "outputs": [],
   "source": [
    "d = {'apples': 0.49, 'oranges': 0.99, 'pears': 1.49, 'bananas': 0.32}"
   ]
  },
  {
   "cell_type": "markdown",
   "metadata": {},
   "source": [
    "## Challenge 3: Check to see a key\n",
    "\n",
    "To see if something is in a container, use the `in` operator. This works for both lists and dictionaries:"
   ]
  },
  {
   "cell_type": "code",
   "execution_count": null,
   "metadata": {
    "collapsed": false
   },
   "outputs": [],
   "source": [
    "l = [\"Afghanistan\", \"Canada\", \"Sierra Leone\", \"Denmark\", \"Japan\"]\n",
    "d = {'apples': 0.49, 'oranges': 0.99, 'pears': 1.49, 'bananas': 0.32}\n",
    "\n",
    "print('Canada' in l)\n",
    "print('grapefruit' in d)"
   ]
  },
  {
   "cell_type": "markdown",
   "metadata": {},
   "source": [
    "Below, I've given you a **list** containing 5 **dictionaries** representing some American states. \n",
    "\n",
    "1. Loop through all the dictionaries in the list\n",
    "2. Check to see if \"state bird\" is in the dictionary\n",
    "3. If the key is NOT in the dictionary, add the key and assign it to the value \"unknown\""
   ]
  },
  {
   "cell_type": "code",
   "execution_count": null,
   "metadata": {
    "collapsed": true
   },
   "outputs": [],
   "source": [
    "states = [{'state': 'Ohio', 'population': 11.6, 'year in union': 1803, 'state bird': 'Northern cardinal', 'capital': 'Columbus'},\n",
    "          {'state': 'Michigan', 'population': 9.9, 'year in union': 1837, 'capital': 'Lansing'},\n",
    "          {'state': 'California', 'population': 39.1, 'year in union': 1850, 'state bird': 'California quail', 'capital': 'Sacramento'},\n",
    "          {'state': 'Florida', 'population': 20.2, 'year in union': 1834, 'capital': 'Tallahassee'},\n",
    "          {'state': 'Alabama', 'population': 4.9, 'year in union': 1819, 'capital': 'Montgomery'}]"
   ]
  },
  {
   "cell_type": "code",
   "execution_count": null,
   "metadata": {
    "collapsed": true
   },
   "outputs": [],
   "source": []
  }
 ],
 "metadata": {
  "kernelspec": {
   "display_name": "Python 3",
   "language": "python",
   "name": "python3"
  },
  "language_info": {
   "codemirror_mode": {
    "name": "ipython",
    "version": 3
   },
   "file_extension": ".py",
   "mimetype": "text/x-python",
   "name": "python",
   "nbconvert_exporter": "python",
   "pygments_lexer": "ipython3",
   "version": "3.4.3"
  }
 },
 "nbformat": 4,
 "nbformat_minor": 0
}
