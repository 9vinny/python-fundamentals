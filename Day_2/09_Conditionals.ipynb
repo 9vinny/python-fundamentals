{
 "cells": [
  {
   "cell_type": "markdown",
   "metadata": {},
   "source": [
    "# Conditionals\n",
    "\n",
    "**Time**\n",
    "\n",
    "- Teaching: 10 min\n",
    "- Exercises: 5 min\n",
    "\n",
    "**Questions**:\n",
    "\n",
    "- \"How can programs do different things for different data?\"\n",
    "\n",
    "**Learning Objectives**:\n",
    "\n",
    "- \"Correctly write programs that use if and else statements and simple Boolean expressions (without logical operators).\"\n",
    "- \"Trace the execution of unnested conditionals and conditionals inside loops.\"\n",
    "keypoints:\n",
    "- \"Use `if` statements to control whether or not a block of code is executed.\"\n",
    "- \"Conditionals are often used inside loops.\"\n",
    "- \"Use `else` to execute a block of code when an `if` condition is *not* true.\"\n",
    "- \"Use `elif` to specify additional tests.\"\n",
    "- \"Conditions are tested once, in order.\"\n",
    "* * * * *"
   ]
  },
  {
   "cell_type": "markdown",
   "metadata": {},
   "source": [
    "## Use `if` statements to control whether or not a block of code is executed.\n",
    "\n",
    "*   An `if` statement (more properly called a *conditional* statement)\n",
    "    controls whether some block of code is executed or not.\n",
    "*   Structure is similar to a `for` statement:\n",
    "    *   First line opens with `if` and ends with a colon\n",
    "    *   Body containing one or more statements is indented (usually by 4 spaces)\n"
   ]
  },
  {
   "cell_type": "code",
   "execution_count": 1,
   "metadata": {
    "collapsed": false
   },
   "outputs": [
    {
     "name": "stdout",
     "output_type": "stream",
     "text": [
      "84 is old\n"
     ]
    }
   ],
   "source": [
    "age = 84\n",
    "if age > 60:\n",
    "    print(age, 'is old')\n",
    "\n",
    "age = 20\n",
    "if age > 60:\n",
    "    print (age, 'is large')"
   ]
  },
  {
   "cell_type": "markdown",
   "metadata": {},
   "source": [
    "\n",
    "## Conditionals are often used inside loops.\n",
    "\n",
    "*   Not much point using a conditional when we know the value (as above).\n",
    "*   But useful when we have a collection to process."
   ]
  },
  {
   "cell_type": "code",
   "execution_count": 2,
   "metadata": {
    "collapsed": false
   },
   "outputs": [
    {
     "name": "stdout",
     "output_type": "stream",
     "text": [
      "88 is old\n",
      "67 is old\n"
     ]
    }
   ],
   "source": [
    "ages = [20, 43, 12, 88, 67]\n",
    "for age in ages:\n",
    "    if age > 60:\n",
    "        print(age, 'is old')"
   ]
  },
  {
   "cell_type": "markdown",
   "metadata": {},
   "source": [
    "## Use `else` to execute a block of code when an `if` condition is *not* true.\n",
    "\n",
    "*   `else` is always attached to `if`.\n",
    "*   Allows us to specify an alternative to execute when the `if` *branch* isn't taken.\n"
   ]
  },
  {
   "cell_type": "code",
   "execution_count": 3,
   "metadata": {
    "collapsed": false
   },
   "outputs": [
    {
     "name": "stdout",
     "output_type": "stream",
     "text": [
      "20 is not old\n",
      "43 is not old\n",
      "12 is not old\n",
      "88 is old\n",
      "67 is old\n"
     ]
    }
   ],
   "source": [
    "ages = [20, 43, 12, 88, 67]\n",
    "for age in ages:\n",
    "    if age > 60:\n",
    "        print(age, 'is old')\n",
    "    else:\n",
    "        print(age, 'is not old')"
   ]
  },
  {
   "cell_type": "markdown",
   "metadata": {},
   "source": [
    "## Use `elif` to specify additional tests.\n",
    "\n",
    "*   May want to provide several alternative choices, each with its own test.\n",
    "*   Use `elif` (short for \"else if\") and a condition to specify these.\n",
    "*   Always associated with an `if`.\n",
    "*   Must come before the `else` (which is the \"catch all\")."
   ]
  },
  {
   "cell_type": "code",
   "execution_count": 4,
   "metadata": {
    "collapsed": false
   },
   "outputs": [
    {
     "name": "stdout",
     "output_type": "stream",
     "text": [
      "20 is young\n",
      "43 is middle-aged\n",
      "12 is young\n",
      "88 is old\n",
      "67 is old\n"
     ]
    }
   ],
   "source": [
    "ages = [20, 43, 12, 88, 67]\n",
    "for age in ages:\n",
    "    if age > 60:\n",
    "        print(age, 'is old')\n",
    "    elif age > 40:\n",
    "        print(age, 'is middle-aged')\n",
    "    else:\n",
    "        print(age, 'is young')"
   ]
  },
  {
   "cell_type": "markdown",
   "metadata": {},
   "source": [
    "# Use boolean operators to make complex statements\n",
    "\n",
    "I can also generate more complex conditional statements with boolean operators\n",
    "like **and** and **or**, and use comparators like \"<\", \">\""
   ]
  },
  {
   "cell_type": "code",
   "execution_count": 5,
   "metadata": {
    "collapsed": false
   },
   "outputs": [
    {
     "name": "stdout",
     "output_type": "stream",
     "text": [
      "20 is in the labor force\n",
      "43 is in the labor force\n",
      "12 is outside the labor force\n",
      "88 is outside the labor force\n",
      "67 is outside the labor force\n"
     ]
    }
   ],
   "source": [
    "ages = [20, 43, 12, 88, 67]\n",
    "for age in ages:\n",
    "    if age > 65 or age < 16:\n",
    "        print(age, 'is outside the labor force')\n",
    "    else:\n",
    "        print(age, 'is in the labor force')"
   ]
  },
  {
   "cell_type": "markdown",
   "metadata": {},
   "source": [
    "## Conditions are tested once, in order.\n",
    "\n",
    "*   Python steps through the branches of the conditional in order, testing each in turn.\n",
    "*   So ordering matters."
   ]
  },
  {
   "cell_type": "code",
   "execution_count": 6,
   "metadata": {
    "collapsed": false
   },
   "outputs": [
    {
     "name": "stdout",
     "output_type": "stream",
     "text": [
      "grade is C\n"
     ]
    }
   ],
   "source": [
    "grade = 85\n",
    "if grade >= 70:\n",
    "    print('grade is C')\n",
    "elif grade >= 80:\n",
    "    print('grade is B')\n",
    "elif grade >= 90:\n",
    "    print('grade is A')"
   ]
  },
  {
   "cell_type": "markdown",
   "metadata": {},
   "source": [
    "*   Conditionals do *not* automatically go back and re-evaluate if values change."
   ]
  },
  {
   "cell_type": "code",
   "execution_count": 7,
   "metadata": {
    "collapsed": false
   },
   "outputs": [
    {
     "name": "stdout",
     "output_type": "stream",
     "text": [
      "small city\n"
     ]
    }
   ],
   "source": [
    "population = 10000\n",
    "if population > 200000:\n",
    "    print('large city')\n",
    "else:\n",
    "    print('small city')\n",
    "    population = 500000"
   ]
  },
  {
   "cell_type": "markdown",
   "metadata": {},
   "source": [
    "*   Often use conditionals in a loop to \"evolve\" the values of variables.\n"
   ]
  },
  {
   "cell_type": "code",
   "execution_count": 8,
   "metadata": {
    "collapsed": false
   },
   "outputs": [
    {
     "name": "stdout",
     "output_type": "stream",
     "text": [
      "0 : 10000\n",
      "small city\n",
      "1 : 85000\n",
      "small city\n",
      "2 : 160000\n",
      "small city\n",
      "3 : 235000\n",
      "large city\n",
      "4 : 230000\n",
      "large city\n",
      "final population: 225000\n"
     ]
    }
   ],
   "source": [
    "population = 10000\n",
    "for i in range(5): # execute the loop 5 times\n",
    "    print(i, ':', population)\n",
    "    if population > 200000:\n",
    "        print('large city')\n",
    "        population -= 5000\n",
    "    else:\n",
    "        print('small city')\n",
    "        population += 75000\n",
    "\n",
    "print('final population:', population)"
   ]
  },
  {
   "cell_type": "markdown",
   "metadata": {},
   "source": [
    "## Challenge 1: Trimming Values\n",
    "\n",
    "Fill in the blanks so that this program creates a new list\n",
    "containing zeroes where the original list's values were negative\n",
    "and ones where the origina list's values were positive.\n"
   ]
  },
  {
   "cell_type": "code",
   "execution_count": 9,
   "metadata": {
    "collapsed": false
   },
   "outputs": [
    {
     "ename": "NameError",
     "evalue": "name '____' is not defined",
     "output_type": "error",
     "traceback": [
      "\u001b[0;31m---------------------------------------------------------------------------\u001b[0m",
      "\u001b[0;31mNameError\u001b[0m                                 Traceback (most recent call last)",
      "\u001b[0;32m<ipython-input-9-8986de6630e8>\u001b[0m in \u001b[0;36m<module>\u001b[0;34m()\u001b[0m\n\u001b[1;32m      1\u001b[0m \u001b[0moriginal\u001b[0m \u001b[0;34m=\u001b[0m \u001b[0;34m[\u001b[0m\u001b[0;34m-\u001b[0m\u001b[0;36m1.5\u001b[0m\u001b[0;34m,\u001b[0m \u001b[0;36m0.2\u001b[0m\u001b[0;34m,\u001b[0m \u001b[0;36m0.4\u001b[0m\u001b[0;34m,\u001b[0m \u001b[0;36m0.0\u001b[0m\u001b[0;34m,\u001b[0m \u001b[0;34m-\u001b[0m\u001b[0;36m1.3\u001b[0m\u001b[0;34m,\u001b[0m \u001b[0;36m0.4\u001b[0m\u001b[0;34m]\u001b[0m\u001b[0;34m\u001b[0m\u001b[0m\n\u001b[0;32m----> 2\u001b[0;31m \u001b[0mresult\u001b[0m \u001b[0;34m=\u001b[0m \u001b[0m____\u001b[0m\u001b[0;34m\u001b[0m\u001b[0m\n\u001b[0m\u001b[1;32m      3\u001b[0m \u001b[0;32mfor\u001b[0m \u001b[0mvalue\u001b[0m \u001b[0;32min\u001b[0m \u001b[0moriginal\u001b[0m\u001b[0;34m:\u001b[0m\u001b[0;34m\u001b[0m\u001b[0m\n\u001b[1;32m      4\u001b[0m     \u001b[0;32mif\u001b[0m \u001b[0m____\u001b[0m\u001b[0;34m:\u001b[0m\u001b[0;34m\u001b[0m\u001b[0m\n\u001b[1;32m      5\u001b[0m         \u001b[0mresult\u001b[0m\u001b[0;34m.\u001b[0m\u001b[0mappend\u001b[0m\u001b[0;34m(\u001b[0m\u001b[0;36m0\u001b[0m\u001b[0;34m)\u001b[0m\u001b[0;34m\u001b[0m\u001b[0m\n",
      "\u001b[0;31mNameError\u001b[0m: name '____' is not defined"
     ]
    }
   ],
   "source": [
    "original = [-1.5, 0.2, 0.4, 0.0, -1.3, 0.4]\n",
    "result = ____\n",
    "for value in original:\n",
    "    if ____:\n",
    "        result.append(0)\n",
    "    else:\n",
    "        ____\n",
    "print(result)"
   ]
  },
  {
   "cell_type": "markdown",
   "metadata": {},
   "source": [
    "## Challenge 2: String Conditionals\n",
    "\n",
    "Here are our presidents again. Create a list of all the presidents whose last name starts with the letter B.\n"
   ]
  },
  {
   "cell_type": "code",
   "execution_count": 10,
   "metadata": {
    "collapsed": true
   },
   "outputs": [],
   "source": [
    "presidents_full = [\"George Washington\", \"John Adams\", \"Thomas Jefferson\", \"James Madison\", \"James Monroe\", \\\n",
    "        \"John Quincy Adams\", \"Andrew Jackson\", \"Martin Van Buren\", \"William Henry Harrison\", \"John Tyler\", \\\n",
    "        \"James K. Polk\", \"Zachary Taylor\", \"Millard Fillmore\", \"Franklin Pierce\", \"James Buchanan\", \\\n",
    "        \"Abraham Lincoln\", \"Andrew Johnson\", \"Ulysses S. Grant\", \"Rutherford B. Hayes\", \"James A. Garfield\", \\\n",
    "        \"Chester A. Arthur\", \"Grover Cleveland\", \"Benjamin Harrison\", \"Grover Cleveland\", \"William McKinley\", \\\n",
    "        \"Theodore Roosevelt\", \"William Howard Taft\", \"Woodrow Wilson\", \"Warren G. Harding\", \"Calvin Coolidge\", \\\n",
    "        \"Herbert Hoover\", \"Franklin D. Roosevelt\", \"Harry S. Truman\", \"Dwight D. Eisenhower\", \"John F. Kennedy\", \\\n",
    "        \"Lyndon B. Johnson\", \"Richard Nixon\", \"Gerald Ford\", \"Jimmy Carter\", \"Ronald Reagan\", \"George H. W. Bush\", \\\n",
    "        \"Bill Clinton\", \"George W. Bush\", \"Barack Obama\"]"
   ]
  },
  {
   "cell_type": "code",
   "execution_count": null,
   "metadata": {
    "collapsed": true
   },
   "outputs": [],
   "source": []
  }
 ],
 "metadata": {
  "kernelspec": {
   "display_name": "Python 3",
   "language": "python",
   "name": "python3"
  },
  "language_info": {
   "codemirror_mode": {
    "name": "ipython",
    "version": 3
   },
   "file_extension": ".py",
   "mimetype": "text/x-python",
   "name": "python",
   "nbconvert_exporter": "python",
   "pygments_lexer": "ipython3",
   "version": "3.4.3"
  }
 },
 "nbformat": 4,
 "nbformat_minor": 0
}
