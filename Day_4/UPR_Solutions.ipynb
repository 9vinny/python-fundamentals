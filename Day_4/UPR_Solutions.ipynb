{
 "cells": [
  {
   "cell_type": "markdown",
   "metadata": {},
   "source": [
    "# Using Python for Information Retrieval\n",
    "\n",
    "## Solutions"
   ]
  },
  {
   "cell_type": "code",
   "execution_count": 1,
   "metadata": {
    "collapsed": true
   },
   "outputs": [],
   "source": [
    "import os\n",
    "import csv"
   ]
  },
  {
   "cell_type": "markdown",
   "metadata": {},
   "source": [
    "# PART A: Start with one document"
   ]
  },
  {
   "cell_type": "markdown",
   "metadata": {},
   "source": [
    "## 1. Read, Clean, Assign\n",
    "\n",
    "**task**:\n",
    "\n",
    "1. Read one document\n",
    "2. Collect information on the country and year\n",
    "3. Keep the section we're interested in\n",
    "4. Turn each line into an item in a list.\n",
    "\n",
    "**skills**:\n",
    "- file reading\n",
    "- [string](https://github.com/dlab-berkeley/python-intensive/blob/master/Glossary.md#string) splicing\n",
    "- string methods\n",
    "- indexing"
   ]
  },
  {
   "cell_type": "markdown",
   "metadata": {},
   "source": [
    "### 1.1 Read in \"cotedivoire2014.txt\"\n",
    "\n",
    "Fill in the blanks to read in the file."
   ]
  },
  {
   "cell_type": "code",
   "execution_count": 2,
   "metadata": {
    "collapsed": false
   },
   "outputs": [],
   "source": [
    "# SOLUTION\n",
    "directory = './data/txts'\n",
    "file_name = \"cotedivoire2014.txt\"\n",
    "with open(directory + '/'+ file_name,'r') as f:\n",
    "    text = f.read()"
   ]
  },
  {
   "cell_type": "markdown",
   "metadata": {},
   "source": [
    "### 1.2 Assign country and year variables \n",
    "\n",
    "Splice the file name to create 2 new variables, `country`, and `year`"
   ]
  },
  {
   "cell_type": "code",
   "execution_count": 3,
   "metadata": {
    "collapsed": false
   },
   "outputs": [],
   "source": [
    "# SOLUTION\n",
    "country = file_name[:-8]\n",
    "year = file_name[-8:-4]"
   ]
  },
  {
   "cell_type": "markdown",
   "metadata": {},
   "source": [
    "### 1.3 Get the Recommendations Section\n",
    "\n",
    "Note that the section we want starts with `\"II. Conclusions and/or recommendations\\n\"`. What [method](https://github.com/dlab-berkeley/python-intensive/blob/master/Glossary.md#method) would you use to get everything after this substring? Fill in the blank below and [assign](https://github.com/dlab-berkeley/python-intensive/blob/master/Glossary.md#assign) the value to a new variable called `rec_text`\n"
   ]
  },
  {
   "cell_type": "code",
   "execution_count": 4,
   "metadata": {
    "collapsed": false
   },
   "outputs": [],
   "source": [
    "# SOLUTION\n",
    "sections = text.split(\"II. Conclusions and/or recommendations\\n\")\n",
    "rec_text = sections[1]"
   ]
  },
  {
   "cell_type": "markdown",
   "metadata": {},
   "source": [
    "### 1.4 Turn it into a list\n",
    "\n",
    "Turn the string above into a list of lines, and store it in a variable called `recs`"
   ]
  },
  {
   "cell_type": "code",
   "execution_count": 5,
   "metadata": {
    "collapsed": false
   },
   "outputs": [
    {
     "data": {
      "text/plain": [
       "['127. The recommendations listed below enjoy the support of C™te dÕIvoire: ',\n",
       " '127.1 Consider the accession to core human rights instruments (Lesotho); and to other main international human rights treaties that it is not yet a party to (Philippines); ',\n",
       " '127.2 Make efforts towards the ratification of the OP-CAT (Chile); ',\n",
       " '127.3 Ratify the OP-CAT (Ghana, Tunisia), as recommended previously in 2009 (Czech Republic) and take policy measures to prevent torture and ill-treatment (Estonia); ',\n",
       " '127.4 Accede to the OP-CAT as soon as possible (Uruguay); ',\n",
       " '127.5 Consider ratifying OP-CAT (Burkina Faso); ',\n",
       " '127.6 Ratify the International Convention on the Protection of the Rights of All Migrant Workers and Members of Their Families (ICRMW) (Ghana); ',\n",
       " '127.7 Consider acceding to the ICRMW (Chad); ',\n",
       " '127.8 Make efforts towards the ratification of ICCPR-OP 2 (Chile); ',\n",
       " '127.9 Ratify ICCPR-OP 2 (Rwanda) to abolish death penalty (France, Montenegro); ',\n",
       " '127.10 Accede to the Agreement on the Privileges and Immunities of the International Criminal Court (Slovakia); ',\n",
       " '127.11 Sign and ratify the Optional Protocol to the International Covenant on Economic, Social and Cultural Rights (Portugal); ',\n",
       " '127.12 Fully implement CEDAW (Israel); ',\n",
       " '127.13 Ratify the third Optional Protocol to CRC (Portugal); ',\n",
       " '127.14 Sign (Portugal) ratify (France, Portugal, Tunisia) and accede to the International Convention for the Protection of All Persons from Enforced Disappearance as soon as possible (Uruguay); ']"
      ]
     },
     "execution_count": 5,
     "metadata": {},
     "output_type": "execute_result"
    }
   ],
   "source": [
    "# SOLUTION\n",
    "recs = rec_text.split(\"\\n\")\n",
    "recs[:15]"
   ]
  },
  {
   "cell_type": "markdown",
   "metadata": {},
   "source": [
    "## 2. Chunk \n",
    "\n",
    "**task**:\n",
    "\n",
    "These texts have 3 sections each. \n",
    "1. The first section contains those recommendations the country supports. \n",
    "2. The second section contains recs the country will examine. \n",
    "3. The third contains recommendations the country explicitely rejects. \n",
    "\n",
    "We want to chunk the the text into three lists, `accept`, `examine`, `reject` -- each containing their respective recommendations.\n",
    "\n",
    "**skills**:\n",
    "- string methods\n",
    "- lists\n",
    "- loops\n",
    "- conditionals\n",
    "- indexing"
   ]
  },
  {
   "cell_type": "markdown",
   "metadata": {},
   "source": [
    "### 2.1: Find the paragraph numbers\n",
    "\n",
    "Each section starts with a main paragraph number (e.g. **123**. The individual recommendations are then noted as subparagraphs (e.g. **123.1, 123.2** etc.\n",
    "\n",
    "The problem is, we don't know what these paragraph numbers are *a priori*. "
   ]
  },
  {
   "cell_type": "code",
   "execution_count": 6,
   "metadata": {
    "collapsed": true
   },
   "outputs": [],
   "source": [
    "# SOLUTION\n",
    "para1 = recs[0].split(\".\")[0]\n",
    "para1 = int(para1)\n",
    "para2 = para1 + 1\n",
    "para3 = para2 + 1"
   ]
  },
  {
   "cell_type": "markdown",
   "metadata": {},
   "source": [
    "### 2.2 Parse the text\n",
    "\n",
    "Now create 3 new lists: `accept`, `examine`, `reject.` Loop through the `recs` and assign each one to their corresponding section.\n",
    "\n",
    "**hint**: How do you know if a line belongs to a section? It starts with the main paragraph number for that section. So use the **.startswith()** method."
   ]
  },
  {
   "cell_type": "code",
   "execution_count": 7,
   "metadata": {
    "collapsed": false
   },
   "outputs": [],
   "source": [
    "# SOLUTION\n",
    "accept = [line for line in recs if line.startswith(str(para1))][1:]\n",
    "\n",
    "examine = [line for line in recs if line.startswith(str(para2))][1:]\n",
    "\n",
    "reject = [line for line in recs if line.startswith(str(para3))][1:]"
   ]
  },
  {
   "cell_type": "markdown",
   "metadata": {},
   "source": [
    "## 3. Get Recommending Country\n",
    "\n",
    "**skills**\n",
    "\n",
    "- string methods\n",
    "- indexing\n",
    "- functions\n",
    "\n",
    "**task**\n",
    "- extract the substring representing the recommending country."
   ]
  },
  {
   "cell_type": "markdown",
   "metadata": {},
   "source": [
    "### 3.1 Extracting the Country\n",
    "\n",
    "Take a look at a recommendation. I've given you a sample one below."
   ]
  },
  {
   "cell_type": "code",
   "execution_count": 8,
   "metadata": {
    "collapsed": false
   },
   "outputs": [
    {
     "name": "stdout",
     "output_type": "stream",
     "text": [
      "127.2 Make efforts towards the ratification of the OP-CAT (Chile); \n"
     ]
    }
   ],
   "source": [
    "# get the first line, from the first section, of the first upr in `l`\n",
    "rec = accept[1]\n",
    "print(rec)"
   ]
  },
  {
   "cell_type": "markdown",
   "metadata": {},
   "source": [
    "Notice that they're all formatted the same way, with the recommending country in parenthesis at the end, in between parentheses.\n",
    "\n",
    "Using your string skills, find a way to pull out the recommending country."
   ]
  },
  {
   "cell_type": "code",
   "execution_count": 9,
   "metadata": {
    "collapsed": false
   },
   "outputs": [
    {
     "name": "stdout",
     "output_type": "stream",
     "text": [
      "Chile\n"
     ]
    }
   ],
   "source": [
    "# SOLUTION\n",
    "rec_country = rec.split('(')[-1].split(')')[0]\n",
    "print(rec_country)"
   ]
  },
  {
   "cell_type": "markdown",
   "metadata": {},
   "source": [
    "### 3.2 Create a Function\n",
    "\n",
    "Create a function called `get_country` that passes an individual recommendation and returns the recommending country"
   ]
  },
  {
   "cell_type": "code",
   "execution_count": 10,
   "metadata": {
    "collapsed": false
   },
   "outputs": [
    {
     "data": {
      "text/plain": [
       "'Chile'"
      ]
     },
     "execution_count": 10,
     "metadata": {},
     "output_type": "execute_result"
    }
   ],
   "source": [
    "# SOLUTION\n",
    "def get_country(rec):\n",
    "    rec_country = rec.split('(')[-1].split(')')[0]\n",
    "    return(rec_country)\n",
    "\n",
    "# test you code\n",
    "get_country(rec)"
   ]
  },
  {
   "cell_type": "markdown",
   "metadata": {},
   "source": [
    "## 4. Store in Dictionary\n",
    "\n",
    "**task**:\n",
    "\n",
    "We now want to create a new list called `reclist` containing just individual recommendations. Each recommendation should be a dictionary with the following keys: \n",
    "\n",
    "1. `to`: the country under review\n",
    "2. `from`: the country (or countries) giving the recommendation\n",
    "4. `year`: the year of the review (all 2014 here)\n",
    "5. `decision`: whether the recommendation was supported, rejected, etc.\n",
    "6. `text`: the text of the recommendation\n",
    "\n",
    "Create your `reclist` by looping through your list `l`. (Hint: You'll need to use loops within loops.)\n",
    "\n",
    "**skills**:\n",
    "- loops\n",
    "- dictionaries"
   ]
  },
  {
   "cell_type": "markdown",
   "metadata": {},
   "source": [
    "### 4.1 Fill in the Blanks\n",
    "\n",
    "The program below loops through all the recommentations in the `accept` list and creates a list of dictionaries described above. Fill in the blanks to complete the code.\n",
    "\n",
    "(Remember we the `country` and `year` variables we created above!)"
   ]
  },
  {
   "cell_type": "code",
   "execution_count": 11,
   "metadata": {
    "collapsed": true
   },
   "outputs": [],
   "source": [
    "# SOLUTION\n",
    "accept_dictionaries = []\n",
    "for rec in accept:\n",
    "    dic = {}\n",
    "    dic['to'] = country\n",
    "    dic['year'] = year\n",
    "    dic['decision'] = 'accept'\n",
    "    dic['from'] = get_country(rec)\n",
    "    dic['text'] = rec\n",
    "    accept_dictionaries.append(dic) "
   ]
  },
  {
   "cell_type": "markdown",
   "metadata": {},
   "source": [
    "### 4.2 Repeat \n",
    "\n",
    "Now write a program that does the same for the `examine` and `rejected` lists:"
   ]
  },
  {
   "cell_type": "code",
   "execution_count": 12,
   "metadata": {
    "collapsed": true
   },
   "outputs": [],
   "source": [
    "# SOLUTION\n",
    "examine_dictionaries = []\n",
    "for rec in examine:\n",
    "    dic = {}\n",
    "    dic['to'] = country\n",
    "    dic['year'] = year\n",
    "    dic['decision'] = 'examine'\n",
    "    dic['from'] = get_country(rec)\n",
    "    dic['text'] = rec\n",
    "    examine_dictionaries.append(dic) \n",
    "\n",
    "reject_dictionaries = []\n",
    "for rec in reject:\n",
    "    dic = {}\n",
    "    dic['to'] = country\n",
    "    dic['year'] = year\n",
    "    dic['decision'] = 'reject'\n",
    "    dic['from'] = get_country(rec)\n",
    "    dic['text'] = rec\n",
    "    reject_dictionaries.append(dic) "
   ]
  },
  {
   "cell_type": "markdown",
   "metadata": {
    "collapsed": true
   },
   "source": [
    "### 4.3 Put em Together\n",
    "\n",
    "Now concenate the `accept_dictionaries`, `examine_dictionaries`, `reject_dictionaries` lists to make one big list called `rec_list`"
   ]
  },
  {
   "cell_type": "code",
   "execution_count": 13,
   "metadata": {
    "collapsed": false
   },
   "outputs": [
    {
     "name": "stdout",
     "output_type": "stream",
     "text": [
      "186\n"
     ]
    }
   ],
   "source": [
    "# SOLUTION\n",
    "rec_list = accept_dictionaries + examine_dictionaries + reject_dictionaries\n",
    "print(len(rec_list))"
   ]
  },
  {
   "cell_type": "markdown",
   "metadata": {},
   "source": [
    "# PART B: Repeat for all documents\n",
    "\n",
    "We just wrote a program that takes one document and turns it into a dataset!\n",
    "\n",
    "The problem is we have 11 documents!\n",
    "\n",
    "We'll now modify our program to create our data set from all 11 documents."
   ]
  },
  {
   "cell_type": "markdown",
   "metadata": {},
   "source": [
    "## 5. Make a function\n",
    "\n",
    "**task**\n",
    "\n",
    "Combine the code you wrote above to create a function that passes filename and returns a list of dictionaries representing all of the recommendations in that document.\n",
    "\n",
    "**skills**\n",
    "- Functions\n",
    "- Copying and pasting :)"
   ]
  },
  {
   "cell_type": "code",
   "execution_count": 14,
   "metadata": {
    "collapsed": true
   },
   "outputs": [],
   "source": [
    "# SOLUTION\n",
    "\n",
    "def process_document(file_name):\n",
    "    \n",
    "    # read document\n",
    "    with open(directory + '/'+ file_name,'r') as f:\n",
    "        text = f.read()\n",
    "    \n",
    "    # collect info on country and year\n",
    "    country = file_name[:-8]\n",
    "    year = file_name[-8:-4]\n",
    "    \n",
    "    # get rec section\n",
    "    sections = text.split(\"II. Conclusions and/or recommendations\\n\")\n",
    "    rec_text = sections[1]\n",
    "    \n",
    "    # turn recs into a list\n",
    "    recs = rec_text.split(\"\\n\")\n",
    "    \n",
    "    # find paragraph numbers\n",
    "    para1 = recs[0].split(\".\")[0]\n",
    "    para1 = int(para1)\n",
    "    para2 = para1 + 1\n",
    "    para3 = para2 + 1\n",
    "    \n",
    "    # chunk sections\n",
    "    accept = [line for line in recs if line.startswith(str(para1))]\n",
    "    accept = accept[1:]\n",
    "\n",
    "    examine = [line for line in recs if line.startswith(str(para2))]\n",
    "    examine = examine[1:]\n",
    "\n",
    "    reject = [line for line in recs if line.startswith(str(para3))]\n",
    "    reject = reject[1:]\n",
    "    \n",
    "    # make accept dictionaries\n",
    "    accept_dictionaries = []\n",
    "    for rec in accept:\n",
    "        dic = {}\n",
    "        dic['to'] = country\n",
    "        dic['year'] = year\n",
    "        dic['decision'] = 'accept'\n",
    "        dic['from'] = get_country(rec)\n",
    "        dic['text'] = rec\n",
    "        accept_dictionaries.append(dic) \n",
    "    \n",
    "    # \"\" examine \"\"\n",
    "    examine_dictionaries = []\n",
    "    for rec in examine:\n",
    "        dic = {}\n",
    "        dic['to'] = country\n",
    "        dic['year'] = year\n",
    "        dic['decision'] = 'examine'\n",
    "        dic['from'] = get_country(rec)\n",
    "        dic['text'] = rec\n",
    "        examine_dictionaries.append(dic) \n",
    "        \n",
    "    # \"\" reject \"\"\n",
    "    reject_dictionaries = []\n",
    "    for rec in reject:\n",
    "        dic = {}\n",
    "        dic['to'] = country\n",
    "        dic['year'] = year\n",
    "        dic['decision'] = 'reject'\n",
    "        dic['from'] = get_country(rec)\n",
    "        dic['text'] = rec\n",
    "        reject_dictionaries.append(dic)\n",
    "    \n",
    "    rec_list = accept_dictionaries + examine_dictionaries + reject_dictionaries\n",
    "    \n",
    "    return(rec_list)"
   ]
  },
  {
   "cell_type": "code",
   "execution_count": 15,
   "metadata": {
    "collapsed": false
   },
   "outputs": [
    {
     "name": "stdout",
     "output_type": "stream",
     "text": [
      "[{'text': '82.1. Continue the efforts to achieve accession to the main human rights international instruments and their consistent incorporation into domestic legislation (Costa Rica); ', 'decision': 'accept', 'from': 'Costa Rica', 'to': 'tuvalu', 'year': '2013'}, {'text': '82.2. Consider ratifying new international human rights instruments which would assist in strengthening its legal and institutional framework for the promotion and protection of human rights (Nicaragua); ', 'decision': 'accept', 'from': 'Nicaragua', 'to': 'tuvalu', 'year': '2013'}, {'text': '82.3. Continue its efforts to accede to the remaining core international human rights treaties, which will strengthen the domestic legislation with regard to the promotion and protection of human rights, including freedom of religion or belief (Turkey); ', 'decision': 'accept', 'from': 'Turkey', 'to': 'tuvalu', 'year': '2013'}, {'text': '82.4. Work closely with the OHCHR and the Council for considering eventual participation to the core international instruments on human rights (Viet Nam); ', 'decision': 'accept', 'from': 'Viet Nam', 'to': 'tuvalu', 'year': '2013'}, {'text': '82.5. Further continue internal consultations and request the technical assistance of relevant UN institutions with regards to the accession to the core international human rights treaties (Azerbaijan); ', 'decision': 'accept', 'from': 'Azerbaijan', 'to': 'tuvalu', 'year': '2013'}]\n"
     ]
    }
   ],
   "source": [
    "# test your code!\n",
    "print(process_document(\"tuvalu2013.txt\")[:5])"
   ]
  },
  {
   "cell_type": "markdown",
   "metadata": {},
   "source": [
    "## 6. Loop through filenames\n",
    "\n",
    "**task**\n",
    "\n",
    "1. Find the file_names in our directory.\n",
    "2. Apply the function above to all the filenames\n",
    "3. Create a master database\n",
    "\n",
    "**skills**\n",
    "- I/O\n",
    "- Loops\n",
    "- Functions"
   ]
  },
  {
   "cell_type": "markdown",
   "metadata": {},
   "source": [
    "### 6.1 Make a list of file_names\n",
    "\n",
    "The program below reads all the file_names in the directory `data/txts`."
   ]
  },
  {
   "cell_type": "code",
   "execution_count": 16,
   "metadata": {
    "collapsed": false
   },
   "outputs": [
    {
     "name": "stdout",
     "output_type": "stream",
     "text": [
      "afghanistan2014.txt\n",
      "bangladesh2013.txt\n",
      "cotedivoire2014.txt\n",
      "djibouti2013.txt\n",
      "fiji2014.txt\n",
      "jordan2013.txt\n",
      "kazakhstan2014.txt\n",
      "monaco2013.txt\n",
      "sanmarino2014.txt\n",
      "turkmenistan2013.txt\n",
      "tuvalu2013.txt\n"
     ]
    }
   ],
   "source": [
    "# SOLUTION\n",
    "directory = 'data/txts'\n",
    "for file_name in os.listdir(directory):\n",
    "    print(file_name)"
   ]
  },
  {
   "cell_type": "markdown",
   "metadata": {},
   "source": [
    "Modify the program to include only the file_names that end in `.txt`"
   ]
  },
  {
   "cell_type": "code",
   "execution_count": 17,
   "metadata": {
    "collapsed": false
   },
   "outputs": [
    {
     "name": "stdout",
     "output_type": "stream",
     "text": [
      "afghanistan2014.txt\n",
      "bangladesh2013.txt\n",
      "cotedivoire2014.txt\n",
      "djibouti2013.txt\n",
      "fiji2014.txt\n",
      "jordan2013.txt\n",
      "kazakhstan2014.txt\n",
      "monaco2013.txt\n",
      "sanmarino2014.txt\n",
      "turkmenistan2013.txt\n",
      "tuvalu2013.txt\n"
     ]
    }
   ],
   "source": [
    "# SOLUTION\n",
    "for file_name in os.listdir(directory):\n",
    "    if file_name.endswith(\".txt\"):\n",
    "        print(file_name)"
   ]
  },
  {
   "cell_type": "markdown",
   "metadata": {},
   "source": [
    "## 6.2 Process the documents\n",
    "\n",
    "Fill in the blanks below to process each document."
   ]
  },
  {
   "cell_type": "code",
   "execution_count": 18,
   "metadata": {
    "collapsed": false
   },
   "outputs": [
    {
     "name": "stdout",
     "output_type": "stream",
     "text": [
      "processing:  afghanistan2014.txt\n",
      "processing:  bangladesh2013.txt\n",
      "processing:  cotedivoire2014.txt\n",
      "processing:  djibouti2013.txt\n",
      "processing:  fiji2014.txt\n",
      "processing:  jordan2013.txt\n",
      "processing:  kazakhstan2014.txt\n",
      "processing:  monaco2013.txt\n",
      "processing:  sanmarino2014.txt\n",
      "processing:  turkmenistan2013.txt\n",
      "processing:  tuvalu2013.txt\n"
     ]
    }
   ],
   "source": [
    "# SOLUTION\n",
    "all_recs = []\n",
    "for file_name in os.listdir(directory):\n",
    "    if file_name.endswith(\".txt\"):\n",
    "        print(\"processing: \", file_name)\n",
    "        recs = process_document(file_name)\n",
    "        all_recs.extend(recs)"
   ]
  },
  {
   "cell_type": "code",
   "execution_count": 19,
   "metadata": {
    "collapsed": false
   },
   "outputs": [
    {
     "data": {
      "text/plain": [
       "1709"
      ]
     },
     "execution_count": 19,
     "metadata": {},
     "output_type": "execute_result"
    }
   ],
   "source": [
    "len(all_recs)"
   ]
  },
  {
   "cell_type": "markdown",
   "metadata": {},
   "source": [
    "## 6.3 Save to file\n",
    "\n",
    "Now we get to save our data_base to a CSV, and we're done!"
   ]
  },
  {
   "cell_type": "code",
   "execution_count": 20,
   "metadata": {
    "collapsed": false
   },
   "outputs": [],
   "source": [
    "#writing column headings\n",
    "import csv\n",
    "keys = all_recs[0].keys()\n",
    "\n",
    "#writing the rest\n",
    "with open('upr-recs.csv', 'w') as output_file:\n",
    "    dict_writer = csv.DictWriter(output_file, keys)\n",
    "    dict_writer.writeheader()\n",
    "    dict_writer.writerows(all_recs)"
   ]
  },
  {
   "cell_type": "code",
   "execution_count": null,
   "metadata": {
    "collapsed": true
   },
   "outputs": [],
   "source": []
  }
 ],
 "metadata": {
  "anaconda-cloud": {},
  "kernelspec": {
   "display_name": "Python [default]",
   "language": "python",
   "name": "python3"
  },
  "language_info": {
   "codemirror_mode": {
    "name": "ipython",
    "version": 3
   },
   "file_extension": ".py",
   "mimetype": "text/x-python",
   "name": "python",
   "nbconvert_exporter": "python",
   "pygments_lexer": "ipython3",
   "version": "3.5.2"
  }
 },
 "nbformat": 4,
 "nbformat_minor": 0
}
