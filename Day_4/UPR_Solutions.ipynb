{
 "cells": [
  {
   "cell_type": "code",
   "execution_count": 27,
   "metadata": {
    "collapsed": true
   },
   "outputs": [],
   "source": [
    "import os\n",
    "import re\n",
    "import csv\n",
    "from operator import itemgetter\n",
    "from itertools import groupby"
   ]
  },
  {
   "cell_type": "markdown",
   "metadata": {},
   "source": [
    "# PART A: Start with one document"
   ]
  },
  {
   "cell_type": "markdown",
   "metadata": {},
   "source": [
    "## 1. Read, Clean, Assign\n",
    "\n",
    "**task**:\n",
    "\n",
    "1. Read one document\n",
    "2. Collect information on the country and year\n",
    "3. Keep the section we're interested in\n",
    "4. Turn each line into an item in a list.\n",
    "\n",
    "**skills**:\n",
    "- file reading\n",
    "- string splicing\n",
    "- string methods\n",
    "- indexing"
   ]
  },
  {
   "cell_type": "markdown",
   "metadata": {},
   "source": [
    "### 1.1 Read in \"cotedivoire2014.txt\"\n",
    "\n",
    "Fill in the blanks to read in the file."
   ]
  },
  {
   "cell_type": "code",
   "execution_count": 32,
   "metadata": {
    "collapsed": false
   },
   "outputs": [],
   "source": [
    "# SOLUTION\n",
    "dir = './data/txts'\n",
    "file_name = \"cotedivoire2014.txt\"\n",
    "with open(dir + '/'+ file_name,'r', encoding = \"ISO-8859-1\") as f:\n",
    "    text = f.read()"
   ]
  },
  {
   "cell_type": "markdown",
   "metadata": {},
   "source": [
    "### 1.2 Assign country and year variables \n",
    "\n",
    "Splice the file name to create 2 new variables, `country`, and `year`"
   ]
  },
  {
   "cell_type": "code",
   "execution_count": 33,
   "metadata": {
    "collapsed": false
   },
   "outputs": [],
   "source": [
    "# SOLUTION\n",
    "country = file_name[:-8]\n",
    "year = file_name[-8:-4]"
   ]
  },
  {
   "cell_type": "markdown",
   "metadata": {},
   "source": [
    "### 1.3 Get the Recommendations Section\n",
    "\n",
    "Note that the section we want starts with `\"II. Conclusions and/or recommendations\\n\"`. What method would you use to get everything after this substring? Fill in the blank below and assign the value to a new variable called `rec_text`\n"
   ]
  },
  {
   "cell_type": "code",
   "execution_count": 34,
   "metadata": {
    "collapsed": false
   },
   "outputs": [],
   "source": [
    "# SOLUTION\n",
    "sections = text.split(\"II. Conclusions and/or recommendations\\n\")\n",
    "rec_text = sections[1]"
   ]
  },
  {
   "cell_type": "markdown",
   "metadata": {},
   "source": [
    "### 1.4 Turn it into a list\n",
    "\n",
    "Turn the string above into a list of lines, and store it in a variable called `recs`"
   ]
  },
  {
   "cell_type": "code",
   "execution_count": 41,
   "metadata": {
    "collapsed": false
   },
   "outputs": [
    {
     "data": {
      "text/plain": [
       "['127. The recommendations listed below enjoy the support of C\\x99te dÕIvoire: ',\n",
       " '127.1 Consider the accession to core human rights instruments (Lesotho); and to other main international human rights treaties that it is not yet a party to (Philippines); ',\n",
       " '127.2 Make efforts towards the ratification of the OP-CAT (Chile); ',\n",
       " '127.3 Ratify the OP-CAT (Ghana, Tunisia), as recommended previously in 2009 (Czech Republic) and take policy measures to prevent torture and ill-treatment (Estonia); ',\n",
       " '127.4 Accede to the OP-CAT as soon as possible (Uruguay); ',\n",
       " '127.5 Consider ratifying OP-CAT (Burkina Faso); ',\n",
       " '127.6 Ratify the International Convention on the Protection of the Rights of All Migrant Workers and Members of Their Families (ICRMW) (Ghana); ',\n",
       " '127.7 Consider acceding to the ICRMW (Chad); ',\n",
       " '127.8 Make efforts towards the ratification of ICCPR-OP 2 (Chile); ',\n",
       " '127.9 Ratify ICCPR-OP 2 (Rwanda) to abolish death penalty (France, Montenegro); ',\n",
       " '127.10 Accede to the Agreement on the Privileges and Immunities of the International Criminal Court (Slovakia); ',\n",
       " '127.11 Sign and ratify the Optional Protocol to the International Covenant on Economic, Social and Cultural Rights (Portugal); ',\n",
       " '127.12 Fully implement CEDAW (Israel); ',\n",
       " '127.13 Ratify the third Optional Protocol to CRC (Portugal); ',\n",
       " '127.14 Sign (Portugal) ratify (France, Portugal, Tunisia) and accede to the International Convention for the Protection of All Persons from Enforced Disappearance as soon as possible (Uruguay); ']"
      ]
     },
     "execution_count": 41,
     "metadata": {},
     "output_type": "execute_result"
    }
   ],
   "source": [
    "# SOLUTION\n",
    "recs = rec_text.split(\"\\n\")\n",
    "recs[:15]"
   ]
  },
  {
   "cell_type": "markdown",
   "metadata": {},
   "source": [
    "## 2. Chunk \n",
    "\n",
    "**task**:\n",
    "\n",
    "These texts have 3 sections each. \n",
    "1. The first section contains those recommendations the country supports. \n",
    "2. The second section contains recs the country will examine. \n",
    "3. The third contains recommendations the country explicitely rejects. \n",
    "\n",
    "We want to chunk the the text into three lists, `accept`, `examine`, `reject` -- each containing their respective recommendations.\n",
    "\n",
    "**skills**:\n",
    "- string methods\n",
    "- lists\n",
    "- loops\n",
    "- conditionals\n",
    "- indexing"
   ]
  },
  {
   "cell_type": "markdown",
   "metadata": {},
   "source": [
    "### 2.1: Find the paragraph numbers\n",
    "\n",
    "Each section starts with a main paragraph number (e.g. **123**. The individual recommendations are then noted as subparagraphs (e.g. **123.1, 123.2** etc.\n",
    "\n",
    "The problem is, we don't know what these paragarph numbers are *a priori*. "
   ]
  },
  {
   "cell_type": "code",
   "execution_count": 36,
   "metadata": {
    "collapsed": true
   },
   "outputs": [],
   "source": [
    "# SOLUTION\n",
    "para1 = recs[0].split(\".\")[0]\n",
    "para1 = int(para1)\n",
    "para2 = para1 + 1\n",
    "para3 = para2 + 1"
   ]
  },
  {
   "cell_type": "markdown",
   "metadata": {},
   "source": [
    "### 2.2 Parse the text\n",
    "\n",
    "Now create 3 new lists: `accept`, `examine`, `reject.` Loop through the `recs` and assign each one to their corresponding section.\n",
    "\n",
    "**hint**: How do you know if a line belongs to a section? It starts with the main paragraph number for that section. So use the **.startswith()** method."
   ]
  },
  {
   "cell_type": "code",
   "execution_count": 42,
   "metadata": {
    "collapsed": false
   },
   "outputs": [
    {
     "name": "stdout",
     "output_type": "stream",
     "text": [
      "['127.1 Consider the accession to core human rights instruments (Lesotho); and to other main international human rights treaties that it is not yet a party to (Philippines); ', '127.2 Make efforts towards the ratification of the OP-CAT (Chile); ', '127.3 Ratify the OP-CAT (Ghana, Tunisia), as recommended previously in 2009 (Czech Republic) and take policy measures to prevent torture and ill-treatment (Estonia); ', '127.4 Accede to the OP-CAT as soon as possible (Uruguay); ', '127.5 Consider ratifying OP-CAT (Burkina Faso); ', '127.6 Ratify the International Convention on the Protection of the Rights of All Migrant Workers and Members of Their Families (ICRMW) (Ghana); ', '127.7 Consider acceding to the ICRMW (Chad); ', '127.8 Make efforts towards the ratification of ICCPR-OP 2 (Chile); ', '127.9 Ratify ICCPR-OP 2 (Rwanda) to abolish death penalty (France, Montenegro); ', '127.10 Accede to the Agreement on the Privileges and Immunities of the International Criminal Court (Slovakia); ', '127.11 Sign and ratify the Optional Protocol to the International Covenant on Economic, Social and Cultural Rights (Portugal); ', '127.12 Fully implement CEDAW (Israel); ', '127.13 Ratify the third Optional Protocol to CRC (Portugal); ', '127.14 Sign (Portugal) ratify (France, Portugal, Tunisia) and accede to the International Convention for the Protection of All Persons from Enforced Disappearance as soon as possible (Uruguay); ', '127.15 Continue efforts to implement the total prohibition of torture and ill-treatment by integrating CAT into domestic legislation and ratify OP-CAT (Costa Rica); ', '127.16 Incorporate CAT into domestic law in order to define crimes of torture and incorporate it in the national legislation (France); ', '127.17 Revise the penal code and criminal procedure code and within this framework the definition and criminalization of torture (Cabo Verde); ', '127.18 Criminalize torture and other inhuman or degrading treatment or punishment in the Penal Code (Belgium); ', '127.19 Continue to adapt national legislation in order to better implement the provisions of international treaties (Russian Federation); ', '127.20 Continue to develop the institutional and legal framework in respect of human rights (Lesotho); ', '127.21 Review the Criminal and Criminal Procedural Codes in order to bring them into line with international standards (Russian Federation); ', '127.22 Review its national legislation in order to ensure its full alignment with obligations under the Rome Statute, in particular by incorporating provisions enabling cooperation with the Court (Latvia); ', '127.23 Fully align its national legislation with the Rome Statute of the ICC and accede to the Agreement on the Privileges and Immunities of the Court (APIC) (Estonia); ', '127.24 Fully align its national legislation with the Rome Statute, including by incorporating provisions to cooperate promptly and fully with ICC and to investigate and prosecute genocide, crimes against humanity and war crimes effectively before its national courts (Liechtenstein); ', '127.25 Continue its full cooperation with ICC (Burkina Faso);  ', '127.26 Introduce legislative measures to strengthen the rule of law and consolidate cooperation between national and international mechanisms to fight against impunity notably between the ICC, the Special Investigation Unit, and the military court (Canada); ', '127.27 Quickly complete the alignment of the national legislation with the provisions of the Rome Statute (Tunisia); ', '127.28 Adopt legislative measures for an effective implementation of the Rome Statute (Uruguay); ', '127.29 Revise its legislation to bring it into line with the requirements of the Rome Statue, so that, for example, statutes of limitations are not applicable to crimes against humanity, ensuring that all persons regardless of their position or rank are liable to prosecution as well as including responsibility of superior officers for crimes against humanity and war crimes committed with their knowledge (Belgium); ', '127.30 Swiftly adopt the law on the protection of human rights defenders by the Ivorian Parliament, and its immediate implementation (Czech Republic); ', '127.31 Adopt a comprehensive law on the trafficking in persons, including women and children (Sierra Leone); ', '127.32 Fully align its national legislation with the CEDAW, including by eliminating all discriminatory provisions from national laws and by supporting its full implementation with practical as well as policy measures (Estonia); ', '127.33 Intensify its efforts to combat violence against women by criminalizing and implementing comprehensive laws prohibiting sexual and gender-based violence and female genital mutilation, and by providing the necessary support to victims of sexual and gender-based violence (Liechtenstein); ', '127.34 Continue and strengthen its efforts towards enforcing the law on female genital mutilation (Norway); ', '127.35 Take necessary steps to enforce laws covering violence, including sexual violence, against women and girls and support to victims to ensure that perpetrators are sanctioned (Norway); ', '127.36 Take all the necessary measures to criminalize violence against women and girls and adopt a committed and determined criminal policy to fight against this surge (Luxembourg); ', '127.37 Criminalize domestic violence in the Penal Code (Paraguay); ', '127.38 Adopt a comprehensive law on violence against women (South Africa); ', '127.39 Carry on the legislative amendments to repeal all discriminatory provisions against women and adopt a comprehensive law on violence against women (Turkey); ', '127.40 Include in its criminal law the definition of rape and other crimes of a sexual nature, according to International Law (Uruguay); ', '127.41 Adopt a specific law on domestic violence, including by criminalizing marital rape (Belgium); ', '127.42 Enact legislation dealing with prohibiting violence against women and implement it in law and practice (Botswana); ', '127.43 Take measures both in legislation and practice to ensure the rights of children, including access to education and health, birth registration, combating child labour and violence against them (Costa Rica); ', '127.44 Guarantee that the legal and institutional framework ensures that children in conflict with the law be dealt with in a manner that conforms to international standards (South Africa); ', '127.45 Enhance the activities of the National Commission for Human Rights and ensure its conformity with the Paris Principles (France); ', '127.46 Create an independent Human Rights Institution in accordance with the Paris Principles (Ghana); ', '127.47 Continue its efforts in empowering the National Human Rights Commission, in particular by holding consultations with all stakeholders with a view to making necessary adjustments to the existing law so as to ensure the Commission is in line with the Paris Principles in respect of its mandate, composition, organization, functioning, independence and means (Indonesia); ', '127.48 Ensure that its NHRI is in conformity with the Paris Principles (Sierra Leone); ', '127.49 Focus on the five priority areas identified by the Government (Ghana); ', '127.50 Continue its efforts to overcome its domestic challenges and constraints with a view to improving the human rights situation in the country (Malaysia); ', '127.51 Establish a National Action Plan for the priorities, initiatives and commitments it has identified in its UPR report with a view to improving the human rights situation in C\\x99te dÕIvoire (Mauritius); ', '127.52 Continue to advance in tackling, in an efficient and responsible manner, the structural underlying causes of discrimination against women (Comoros); ', '127.53 Approve the national strategy to promote gender mainstreaming and empowerment of women, and to strengthen mechanisms responsible for monitoring its effective implementation (Maldives); ', '127.54 Strengthen the national policy against sexual violence, in cooperation with the UN and civil society and pursue its efforts to promote womenÕs rights in particular to fight against all forms of genital mutilation and forced and early marriages (France); ', '127.55 Strengthen the protection and assistance provided to victims in the national action plan against domestic and sexual violence, including measures to encourage complaints, and access to justice, legal advice, medical and psychological attention (Mexico); ', '127.56 Undertake a comprehensive legal and cultural awareness-raising campaign on sexual and gender-based violence including issues such as rape, forced marriage, female genital mutilation and domestic violence (Ireland); ', '127.57 Pursue efforts to combat violence against women, notably by intensifying awareness-raising campaigns about respect for womenÕs rights (State of Palestine); ', '127.58 Continue ongoing efforts and adopt effective measures and policies to stop and prevent sexual violence against women and girls, as recommended previously in 2009 (Sweden); ', '127.59 Continue efforts to fight violence against women, including by raising awareness on the fight against female genital mutilation (Algeria); ', '127.60 Allocate greater resources to combat sexual violence and to prosecute perpetrators (Australia); ', '127.61 Take effective action to protect women and children from sexual violence, including by strengthening and implementing legislation against domestic violence and providing counselling services and safe places for victims (Germany); ', '127.62 Facilitate the filing of complaints by victims of sexual violence by assigning women (officers) to police stations and subsidize medical certificates attesting to such violence (Hungary); ', '127.63 Consolidate the progress achieved in the field of human rights education and training, by regularly organizing, with the assistance of the international community, seminars and awareness-raising workshops on human rights, particularly for members of the security forces and the judiciary (Morocco); ', '127.64 Implement policies aimed primarily at judicial and police officers, which combat stereotypes that normalize violence against women, in order to create a proper atmosphere for victims to file complaints on such acts (Paraguay); ', '127.65 Intensify awareness-raising and educational campaigns to supplement current programmes aimed at empowering women, with a particular focus on identifying and countering discriminatory perceptions and actions or practices that could endanger the safety and security of women and girls (Philippines); ', '127.66 Adopt a national strategy to combat violence against women and to ensure equal participation of women in political and social life (Russian Federation); ', '127.67 Take further measures to improve transparency and clarification on its policies and measures to promote gender equality, especially with regard to the implementation of Act No. 2013-33 (Netherlands); ', '127.68 Continue working on the elaboration of its national human rights policy for its prompt implementation and take into account the constructive contributions arising from this review in the aforementioned policy (Nicaragua); ', '127.69 Strengthen the inclusive approach in the implementation of the national policy for the promotion and protection of Human Rights (Senegal); ', '127.70 Step up efforts to strengthen the process of national reconciliation (Congo); ', '127.71 Redouble its efforts to succeed in the national reconciliation process (Democratic Republic of the Congo); ', '127.72 Strengthen the action of the Dialogue, Truth and Reconciliation Commission in line with the National Programme on Social Cohesion (France); ', '127.73 Speed up the national reconciliation process, so as to consolidate the progress towards the enjoyment of human rights by its people, with the support of the international community (Mozambique); ', '127.74 Continue the dialogue and positive measures to foster national reconciliation and social cohesion (Senegal); ', '127.75 Continue the policy of national reconciliation and consider, if necessary, elaboration of further measures with a view to fostering the process of reconciliation (Slovakia); ', '127.76 Continue the process of national reconciliation (Algeria); ', '127.77 Continue its efforts to finalize the national reconciliation process so as to preserve the promotion and protection of human rights (Angola); ', '127.78 Ensure the participation of all political parties, civil society organizations and community leaders in the work of the Dialogue, Truth and Reconciliation Commission (Australia); ', '127.79 Continue its dialogue on the national reconciliation process through the work of the Dialogue, Truth and Reconciliation Commission by ensuring that the search for truth is a fundamental principle of the Commission, so that it produces recommendations for fair and unbiased actions, and adopt these recommendations at the earliest (Canada); ', '127.80 Redouble its efforts to reintegrate former combatants (Australia); ', '127.81 Continue its efforts to identify war victims and compensate the damages (Togo); ', '127.82 Take full use of technical assistance of the UN and Ivorian NGOs dealing with womenÕs rights to finalize the strategy and implement it accordingly, once adopted (Slovenia); ', '127.83 Continue to move forward through the adoption of all measures and policies that can achieve greater efficiency in the promotion and protection of human rights, and the promotion of the rule of law (Burundi); ', '127.84 Adopt a multiannual action plan to implement the National Policy on Human Rights, and the recommendations of the Human Rights Council, with an effective monitoring structure (Cabo Verde); ', '127.85 Implement the National Commission of Inquiry recommendations to ensure that those responsible for violations of human rights, from all parties are held accountable for their actions as soon as possible (Canada); ', '127.86 Strengthen the implementation of the recommendations of the International Commission on Access to Justice and Victims Assistance, and of those observations made by the Convention on the Elimination of All Forms of Discrimination against Women (Chile); ', '127.87 Extend the deadline for late registration of births and put in place a simple and free birth registration procedure as well as a national strategy to raise awareness on the importance of birth registration (Hungary); ', '127.88 Continue building its national capacities and implement its priorities as they were specified in its national report (United Arab Emirates); ', '127.89 Develop a comprehensive policy aimed at strengthening the judicial system, and rule of law (Botswana); ', '127.90 Continue the implementation of the national strategy to encourage women to stand for elections and elected positions (Algeria); ', '127.91 Submit its initial report to the Committee against Torture which is fifteen years overdue (Republic of Korea); ', '127.92 Submit its backlog of outstanding reports to the concerned treaty bodies (Sierra Leone); ', '127.93 Cooperate with the mandate holders of special procedures and treaty bodies (Chad); ', '127.94 Continue its cooperation with the treaty bodies and submit its outstanding reports (Togo); ', '127.95 Request the necessary aid and technical assistance to the international community, in particular to the United Nations bodies dealing with development, to support the initiatives of the National Development Plan (Morocco); ', '127.96 Pursue the reforms engaged for the protection of children and gender equality (Djibouti); ', '127.97 Make every effort to completely abolish all forms of discrimination against women (Burundi); ', '127.98 Speed up the process of identification of discriminatory provisions against women (Paraguay); ', '127.99 Continue its fight against discrimination against women (Bangladesh); ', '127.100 Strengthen measures to expand womenÕs access to land and to microfinance and microcredit at low interest rates (Egypt); ', '127.101 Double its efforts to enhance the enjoyment of women of their legitimate rights and protect them from all forms of violations (Sudan); ', '127.102 Take all necessary measures to further promote the rights of women and girls, including abolishing all discriminatory laws, implementing the national action plan to combat sexual violence and ending female genital mutilation (Brazil); ', '127.103 Take concrete measures to protect the rights of people with albinism, in accordance with the recommendations made by the Office of the High Commissioner, and raise awareness among society about their situation (Spain); ', '127.104 Adopt measures to stop aggressions and discrimination against persons suffering from albinism (Central African Republic); ', '127.105 Reduce overcrowding and improve physical situation of prisoners and administrative management in prisons (Spain); ', '127.106 Consider incorporating the UN Rules for the Treatment of Women Prisoners and Non-Custodial Measures for Women Offenders, otherwise known as the ÒBangkok RulesÓ, as part of its programme to enhance the condition of detainees in prisons (Thailand); ', '127.107 Refrain from arbitrary arrests and make every effort to bring detainees before a judge within the statutory deadline of 48 hours (Germany); ', '127.108 End all arbitrary detention and strengthen the capacity on the judicial system as addressed in the country report following the previous Universal Periodic Review (Norway); ', '127.109 Continue improving conditions of detention, notably through the separation of quarters of children, women and men in detention facilities where this has not been achieved yet (State of Palestine); ', '127.110 Continue to take measures to ensure in practice the protection of children against sale and trafficking, in accordance with Act No. 2010-272, and ensure that persons engaging in the sale and trafficking of children are prosecuted (Egypt); ', '127.111 Intensify the initiatives aimed at both preventing child and women trafficking, child labour, forced prostitution, and facilitating the social reintegration of the victims (Italy); ', '127.112 Take necessary measures to eliminate worst forms of child labour, specifically in mining, forced begging, and commercial sexual exploitation (United States of America); ', '127.113 Thoroughly investigate human rights violations perpetrated by all sides after the 2010 presidential elections and fully cooperate with the ICCÕs investigations (Czech Republic); ', '127.114 Ensure an equitable and impartial approach to the administration of justice so that all perpetrators responsible for violent crimes are held to account, irrespective of their political, tribal or religious background (Ireland); ', '127.115 Ensure that all those responsible for serious human rights abuses and violations of international humanitarian law are brought to justice in accordance with its international obligations (Israel); ', '127.116 Ensure that all the initiatives taken in the field of reconciliation comply with international standards on human rights, beginning with a comprehensive fight against impunity (Italy); ', '127.117 Promote national reconciliation by investigating crimes, accountability measures and reparation for victims (Mexico); ', '127.118 Reinforce the judicial system which ensures that serious human rights perpetrators are brought to justice (Republic of Korea); ', '127.119 Strengthen mechanisms which facilitate access to justice for victims of atrocities including sexual violence (Sierra Leone); ', '127.120 Continue to undertake measures to enhance the rule of law to protect the rights of its people (Singapore); ', '127.121 Prosecute all presumed perpetrators of human rights violations (Switzerland); ', '127.122 Continue efforts initiated in order to prosecute all perpetrators of serious human rights violations and provide assistance to victims (Argentina); ', '127.123 Ensure fair and rapid justice for all perpetrators of human rights violations (Burkina Faso); ', '127.124 Strengthen the judiciary and police bodies for the prevention of sexual violence, in particular through increasing the number of women and their visibility in the police and the justice system (Portugal); ', '127.125 Strengthen awareness campaigns on the harmful consequences of female genital mutilation and bring all excision practitioners to justice (Hungary); ', '127.126 Thoroughly investigate all allegations of sexual violence and bring perpetrators of such crimes to justice, in accordance with international standards, as recommended previously in 2009 (Sweden); ', '127.127 Undertake all necessary measures to end impunity for sexual violence by investigating all allegations of sexual violence and to prosecute individuals against whom there is sufficient evidence of such abuses (the former Yugoslav Republic of Macedonia); ', '127.128 Guarantee to women effective access to the courts and strengthen assistance and support to victims (Argentina); ', '127.129 Develop a comprehensive policy aimed at strengthening the judicial system, focusing on the effective access to justice for women (Israel); ', '127.130 Take measures to facilitate access to justice for victims of sexual violence, such as by issuing the medical certificates necessary to lodge complaints for sexual violence (Belgium); ', '127.131 Improve access to legal assistance and ensure compensation for victims, especially female victims of sexual violence (Burkina Faso); ', '127.132 Work towards fostering the independence of the Judiciary and reducing the number of people in pretrial detention without substantiated charges (Brazil); ', '127.133 Engage without any delay to prosecute all those who have committed serious violations of human rights, in particular during the post-electoral crisis in 2010, without any consideration of their ethnic, religious or political status (Luxembourg); ', '127.134 Step up their efforts and undertake credible investigations and prosecutions against members of both sides of the post-electoral conflict, including the security forces, thus contributing to the end of impunity (Slovenia); ', '127.135 Take appropriate measures to expedite the ongoing legal proceedings against supporters of former President Laurent Gbagbo, and investigate and punish, when appropriate, crimes committed by the forces of President Ouattara (Spain); ', '127.136 Continue to fight impunity by pursuing crimes that occurred during or in conjunction with the post-electoral conflict and previous conflicts in the country, regardless of which side in the conflicts the perpetrators belonged to. This includes continuing cooperation with the International Criminal Court (Sweden); ', '127.137 Implement the report of the National Inquiry Commission and the commitments taken to fight against impunity, by prosecuting the presumed perpetrators of human rights abuses during the post-electoral crisis regardless of their political affiliation (France); ', '127.138 Expedite its fight against impunity and prosecute the perpetrators of serious violations of human rights committed during the post-electoral crisis (Turkey); ', '127.139 Ensure that all parties responsible for the post-election crimes of 2010 be brought to justice regardless of their political affiliation (United Kingdom of Great Britain and Northern Ireland); ', '127.140 Develop a comprehensive transitional justice strategy that will encompass accountability, reparations, security sector reform and judicial reform ahead of the presidential elections in October 2015 (United Kingdom of Great Britain and Northern Ireland); ', '127.141 Investigate, and when appropriate, prosecute perpetrators of serious crimes, including abuses perpetrated by both sides of the post-election violence, on a non-discriminatory basis and regardless of their ethnic, religious, or political affiliations, to promote national reconciliation and the rule of law (United States of America); ', '127.142 Continue to prioritize the investigation and prosecution of serious international crimes regardless of political affiliation and cooperate with the International Criminal Court in this regard (Australia); ', '127.143 Take concrete steps to combat impunity with respect to human rights abuses committed by security forces, including dozos, by increasing governmental oversight of their operations, investigating credible allegations, and prosecuting cases where appropriate (United States of America); ', '127.144 Improve local administrative and judicial mechanisms to recover lands in the shortest possible time (Spain); ', '127.145 Give priority to resolving conflicts related to land tenure (Burkina Faso); ', '127.146 Adopt measures to ensure open and free campaign before the 2015 presidential elections, grant the opposition representatives access to all State-controlled media, and promote work of all journalists (Czech Republic); ', '127.147 Leave no stone unturned to address all outstanding electoral reform issues to guarantee free and fair elections in 2015 (Ghana); ', '127.148 Spare no efforts in creating conditions conducive to the peaceful and democratically credible holding of the 2015 presidential elections, in particular by convening a solid voter registration process reforming as necessary the National Election Commission (Indonesia); ', '127.149 Take the adequate measures to enlarge the space allocated to civil society (Djibouti); ', '127.150 Step up its efforts to protect civil society space within the country (Italy); ', '127.151 Pursue efforts to improve the living conditions of women, notably through measures aimed at encouraging women to stand for elective office and to seek public appointments, as well as through measures aimed at facilitating womenÕs access to credit, land, and to basic health services (State of Palestine); ', '127.152 Continue the efforts to facilitate the registration of births and create awareness of the importance of this procedure, which allows access to all other rights and basic services such as education and health (Turkey); ', '127.153 Conduct awareness campaigns to promote birth registration of all children and take the necessary measures to ensure easy and effective access to free birth registration for the newborn (Mexico); ', '127.154 Continue ongoing efforts to reduce the rates of maternal mortality (Egypt); ', '127.155 Strengthen efforts to reduce the incidence of maternal mortality (South Africa); ', '127.156 Take concrete measures to improve victim assistance, including health and psychosocial help, to victims of sexual violence and rape, also by providing free medical certificates to rape survivors, since this for most victims unaffordable document is deemed crucial in the course of any pursued investigations (Slovenia); ', '127.157 Remove any obstruction of the right to justice for victims of sexual violence and provide them with effective treatments (Spain); ', '127.158 Share experience with states within the region and benefit from their experiences in combating female genital mutilation (South Sudan); ', '127.159 Continue effectively the fight against female genital mutilation (Togo); ', '127.160 Continue efforts to sensitize public officials on the respect for womenÕs rights, in particular the fight against female genital mutilation (Bolivia (Plurinational State of)); ', '127.161 Continue its efforts in the social field, in particular for those most in need, especially in the field of nutrition, health and education (Venezuela (Bolivarian Republic of)); ', '127.162 Increase its efforts through targeted and comprehensive measures, especially in education, in order to eliminate traditional harmful practices, such as FGM and early and forced marriage (Italy); ', '127.163 Continue and strengthen efforts to provide quality education for all, especially free primary education for children and education for persons with disabilities (Maldives); ', '127.164 With support from UNESCO and ILO, continue to strengthen its education system and vocational training especially for youth (Singapore); ', '127.165 Continue current efforts to provide every child with good quality basic education (Egypt); ', '127.166 Urge to take measures for the introduction of specific modules on human rights at all levels of education, and to continue its cooperation with international and regional human rights mechanisms, boost the national framework of humanitarian consultation created by the decree of 23 January 2013 and to strengthen the role of NGOsÕ interface and civil society (Burkina Faso); ', '127.167 Continue to create the conditions to facilitate the voluntary reparation of Ivorian refugees in accordance with the Tripartite Agreement (Ghana); ', '127.168 Adopt additional measures that tend to develop a comprehensive strategy that tends to address the needs of IDPs and provide sustainable solutions (Argentina); ', '127.169 Strengthen monitoring and supervision by relevant environmental agencies in order to ensure that toxic waste is treated in an environmentally sound manner (Egypt); ', '127.170 Intensify efforts to meet the Millennium Development Goals within the remaining period (Ethiopia); ', '127.171 Continue, with the assistance of the international community, to implement its plans for economic and social development and further reduce poverty so as to lay a firm foundation for improving peoplesÕ livelihood (China); ', '127.172 Strengthen measures taken to fight poverty and unemployment, including through the intensified implementation of programmes in the National Development Plan for 2012Ð2015 in order to combat poverty and foster development (Ethiopia); ', '127.173 Continue its efforts on poverty reduction (Cuba); ', '127.174 Continue its fight against poverty with international communityÕs support (Bangladesh); ', '127.175 Continue to consolidate efforts to combat extreme poverty and improve the economic situation in the country, while ensuring that marginalized sectors, including persons with disabilities and migrants, are given equal and fair access to labour opportunities (Philippines); ', '127.176 Work towards the effective implementation of the national development plan that was adopted in March 2012 in its six points (Sudan); ', '127.177 Redouble actions to improve the compliance with the human right to water (Bolivia (Plurinational State of)); ', '127.178 Consider the promotion and protection of the rights of peasants and other people working in rural areas (Bolivia (Plurinational State of)). ']\n"
     ]
    }
   ],
   "source": [
    "# SOLUTION\n",
    "accept = [line for line in recs if line.startswith(str(para1))][1:]\n",
    "\n",
    "examine = [line for line in recs if line.startswith(str(para2))][1:]\n",
    "\n",
    "reject = [line for line in recs if line.startswith(str(para3))][1:]"
   ]
  },
  {
   "cell_type": "markdown",
   "metadata": {},
   "source": [
    "## 3. Get Recommending Country\n",
    "\n",
    "**skills**\n",
    "\n",
    "- string methods\n",
    "- indexing\n",
    "- functions\n",
    "\n",
    "**task**\n",
    "- extract the substring representing the recommending country."
   ]
  },
  {
   "cell_type": "markdown",
   "metadata": {},
   "source": [
    "### 3.1 Extracting the Country\n",
    "\n",
    "Take a look at a recommendation. I've given you a sample one below."
   ]
  },
  {
   "cell_type": "code",
   "execution_count": 46,
   "metadata": {
    "collapsed": false
   },
   "outputs": [
    {
     "name": "stdout",
     "output_type": "stream",
     "text": [
      "127.2 Make efforts towards the ratification of the OP-CAT (Chile); \n"
     ]
    }
   ],
   "source": [
    "# get the first line, from the first section, of the first upr in `l`\n",
    "rec = accept[1]\n",
    "print(rec)"
   ]
  },
  {
   "cell_type": "markdown",
   "metadata": {},
   "source": [
    "Notice that they're all formatted the same way, with the recommending country in parenthesis at the end, in between parentheses.\n",
    "\n",
    "Using your string skills, find a way to pull out the recommending country."
   ]
  },
  {
   "cell_type": "code",
   "execution_count": 47,
   "metadata": {
    "collapsed": false
   },
   "outputs": [
    {
     "name": "stdout",
     "output_type": "stream",
     "text": [
      "Chile\n"
     ]
    }
   ],
   "source": [
    "# SOLUTION\n",
    "rec_country = rec.split('(')[-1].split(')')[0]\n",
    "print(rec_country)"
   ]
  },
  {
   "cell_type": "markdown",
   "metadata": {},
   "source": [
    "### 3.2 Create a Function\n",
    "\n",
    "Create a function called `get_country` that passes an individual recommendation and returns the recommending country"
   ]
  },
  {
   "cell_type": "code",
   "execution_count": 48,
   "metadata": {
    "collapsed": false
   },
   "outputs": [
    {
     "data": {
      "text/plain": [
       "'Chile'"
      ]
     },
     "execution_count": 48,
     "metadata": {},
     "output_type": "execute_result"
    }
   ],
   "source": [
    "# SOLUTION\n",
    "def get_country(rec):\n",
    "    rec_country = rec.split('(')[-1].split(')')[0]\n",
    "    return(rec_country)\n",
    "\n",
    "# test you code\n",
    "get_country(rec)"
   ]
  },
  {
   "cell_type": "markdown",
   "metadata": {},
   "source": [
    "## 4. Store in Dictionary\n",
    "\n",
    "**task**:\n",
    "\n",
    "We now want to create a new list called `reclist` containing just individual recommendations. Each recommendation should be a dictionary with the following keys: \n",
    "\n",
    "1. `to`: the country under review\n",
    "2. `from`: the country (or countries) giving the recommendation\n",
    "4. `year`: the year of the review (all 2014 here)\n",
    "5. `decision`: whether the recommendation was supported, rejected, etc.\n",
    "6. `text`: the text of the recommendation\n",
    "\n",
    "Create your `reclist` by looping through your list `l`. (Hint: You'll need to use loops within loops.)\n",
    "\n",
    "**skills**:\n",
    "- loops\n",
    "- dictionaries"
   ]
  },
  {
   "cell_type": "markdown",
   "metadata": {},
   "source": [
    "### 4.1 Fill in the Blanks\n",
    "\n",
    "The program below loops through all the recommentations in the `accept` list and creates a list of dictionaries described above. Fill in the blanks to complete the code.\n",
    "\n",
    "(Remember we the `country` and `year` variables we created above!)"
   ]
  },
  {
   "cell_type": "code",
   "execution_count": 19,
   "metadata": {
    "collapsed": true
   },
   "outputs": [],
   "source": [
    "# SOLUTION\n",
    "accept_dictionaries = []\n",
    "for rec in accept:\n",
    "    dic = {}\n",
    "    dic['to'] = country\n",
    "    dic['year'] = year\n",
    "    dic['decision'] = 'accept'\n",
    "    dic['from'] = get_country(rec)\n",
    "    dic['text'] = rec\n",
    "    accept_dictionaries.append(dic) "
   ]
  },
  {
   "cell_type": "markdown",
   "metadata": {},
   "source": [
    "### 4.2 Repeat \n",
    "\n",
    "Now write a program that does the same for the `examine` and `rejected` lists:"
   ]
  },
  {
   "cell_type": "code",
   "execution_count": 20,
   "metadata": {
    "collapsed": true
   },
   "outputs": [],
   "source": [
    "# SOLUTION\n",
    "examine_dictionaries = []\n",
    "for rec in examine:\n",
    "    dic = {}\n",
    "    dic['to'] = country\n",
    "    dic['year'] = year\n",
    "    dic['decision'] = 'examine'\n",
    "    dic['from'] = get_country(rec)\n",
    "    dic['text'] = rec\n",
    "    examine_dictionaries.append(dic) \n",
    "\n",
    "reject_dictionaries = []\n",
    "for rec in examine:\n",
    "    dic = {}\n",
    "    dic['to'] = country\n",
    "    dic['year'] = year\n",
    "    dic['decision'] = 'reject'\n",
    "    dic['from'] = get_country(rec)\n",
    "    dic['text'] = rec\n",
    "    reject_dictionaries.append(dic) "
   ]
  },
  {
   "cell_type": "markdown",
   "metadata": {
    "collapsed": true
   },
   "source": [
    "### 4.3 Put em Together\n",
    "\n",
    "Now concenate the `accept_dictionaries`, `examine_dictionaries`, `reject_dictionaries` lists to make one big list called `rec_list`"
   ]
  },
  {
   "cell_type": "code",
   "execution_count": 22,
   "metadata": {
    "collapsed": false
   },
   "outputs": [
    {
     "name": "stdout",
     "output_type": "stream",
     "text": [
      "190\n"
     ]
    }
   ],
   "source": [
    "# SOLUTION\n",
    "rec_list = accept_dictionaries + examine_dictionaries + reject_dictionaries\n",
    "print(len(rec_list))"
   ]
  },
  {
   "cell_type": "markdown",
   "metadata": {},
   "source": [
    "# PART B: Repeat for all documents\n",
    "\n",
    "We just wrote a program that takes one document and turns it into a dataset!\n",
    "\n",
    "The problem is we have 11 documents!\n",
    "\n",
    "We'll now modify our program to create our data set from all 11 documents."
   ]
  },
  {
   "cell_type": "markdown",
   "metadata": {},
   "source": [
    "## 5. Make a function\n",
    "\n",
    "**task**\n",
    "\n",
    "Combine the code you wrote above to create a function that passes filename and returns a list of dictionaries representing all of the recommendations in that document.\n",
    "\n",
    "**skills**\n",
    "- Functions\n",
    "- Copyin and pasting :)"
   ]
  },
  {
   "cell_type": "code",
   "execution_count": 23,
   "metadata": {
    "collapsed": true
   },
   "outputs": [],
   "source": [
    "# SOLUTION\n",
    "\n",
    "def process_document(file_name):\n",
    "    \n",
    "    # read document\n",
    "    with open(dir + '/'+ file_name,'r', encoding = \"ISO-8859-1\") as f:\n",
    "        text = f.read()\n",
    "    \n",
    "    # collect info on country and year\n",
    "    country = file_name[:-8]\n",
    "    year = file_name[-8:-4]\n",
    "    \n",
    "    # get rec section\n",
    "    sections = text.split(\"II. Conclusions and/or recommendations\\n\")\n",
    "    rec_text = sections[1]\n",
    "    \n",
    "    # turn recs into a list\n",
    "    recs = rec_text.split(\"\\n\")\n",
    "    \n",
    "    # find paragraph numbers\n",
    "    para1 = recs[0].split(\".\")[0]\n",
    "    para1 = int(para1)\n",
    "    para2 = para1 + 1\n",
    "    para3 = para2 + 1\n",
    "    \n",
    "    # chunk sections\n",
    "    accept = [line for line in recs if line.startswith(str(para1))]\n",
    "    accept = accept[1:]\n",
    "\n",
    "    examine = [line for line in recs if line.startswith(str(para2))]\n",
    "    examine = examine[1:]\n",
    "\n",
    "    reject = [line for line in recs if line.startswith(str(para3))]\n",
    "    reject = reject[1:]\n",
    "    \n",
    "    # make accept dictionaries\n",
    "    accept_dictionaries = []\n",
    "    for rec in accept:\n",
    "        dic = {}\n",
    "        dic['to'] = country\n",
    "        dic['year'] = year\n",
    "        dic['decision'] = 'accept'\n",
    "        dic['from'] = get_country(rec)\n",
    "        dic['text'] = rec\n",
    "        accept_dictionaries.append(dic) \n",
    "    \n",
    "    # \"\" examine \"\"\n",
    "    examine_dictionaries = []\n",
    "    for rec in examine:\n",
    "        dic = {}\n",
    "        dic['to'] = country\n",
    "        dic['year'] = year\n",
    "        dic['decision'] = 'examine'\n",
    "        dic['from'] = get_country(rec)\n",
    "        dic['text'] = rec\n",
    "        examine_dictionaries.append(dic) \n",
    "        \n",
    "    # \"\" reject \"\"\n",
    "    reject_dictionaries = []\n",
    "    for rec in examine:\n",
    "        dic = {}\n",
    "        dic['to'] = country\n",
    "        dic['year'] = year\n",
    "        dic['decision'] = 'reject'\n",
    "        dic['from'] = get_country(rec)\n",
    "        dic['text'] = rec\n",
    "        reject_dictionaries.append(dic)\n",
    "    \n",
    "    rec_list = accept_dictionaries + examine_dictionaries + reject_dictionaries\n",
    "    \n",
    "    return(rec_list)"
   ]
  },
  {
   "cell_type": "code",
   "execution_count": 24,
   "metadata": {
    "collapsed": false
   },
   "outputs": [
    {
     "name": "stdout",
     "output_type": "stream",
     "text": [
      "[{'from': 'Costa Rica', 'to': 'tuvalu', 'text': '82.1. Continue the efforts to achieve accession to the main human rights international instruments and their consistent incorporation into domestic legislation (Costa Rica); ', 'year': '2013', 'decision': 'accept'}, {'from': 'Nicaragua', 'to': 'tuvalu', 'text': '82.2. Consider ratifying new international human rights instruments which would assist in strengthening its legal and institutional framework for the promotion and protection of human rights (Nicaragua); ', 'year': '2013', 'decision': 'accept'}, {'from': 'Turkey', 'to': 'tuvalu', 'text': '82.3. Continue its efforts to accede to the remaining core international human rights treaties, which will strengthen the domestic legislation with regard to the promotion and protection of human rights, including freedom of religion or belief (Turkey); ', 'year': '2013', 'decision': 'accept'}, {'from': 'Viet Nam', 'to': 'tuvalu', 'text': '82.4. Work closely with the OHCHR and the Council for considering eventual participation to the core international instruments on human rights (Viet Nam); ', 'year': '2013', 'decision': 'accept'}, {'from': 'Azerbaijan', 'to': 'tuvalu', 'text': '82.5. Further continue internal consultations and request the technical assistance of relevant UN institutions with regards to the accession to the core international human rights treaties (Azerbaijan); ', 'year': '2013', 'decision': 'accept'}]\n"
     ]
    }
   ],
   "source": [
    "# test your code!\n",
    "print(process_document(\"tuvalu2013.txt\")[:5])"
   ]
  },
  {
   "cell_type": "markdown",
   "metadata": {},
   "source": [
    "## 6. Loop through filenames\n",
    "\n",
    "**task**\n",
    "\n",
    "1. Find the file_names in our directory.\n",
    "2. Apply the function above to all the filenames\n",
    "3. Create a master database\n",
    "\n",
    "**skills**\n",
    "- I/O\n",
    "- Loops\n",
    "- Functions"
   ]
  },
  {
   "cell_type": "markdown",
   "metadata": {},
   "source": [
    "### 6.1 Make a list of file_names\n",
    "\n",
    "The program below reads all the file_names in the directory `data/txts`."
   ]
  },
  {
   "cell_type": "code",
   "execution_count": 28,
   "metadata": {
    "collapsed": false
   },
   "outputs": [
    {
     "name": "stdout",
     "output_type": "stream",
     "text": [
      ".DS_Store\n",
      "afghanistan2014.txt\n",
      "bangladesh2013.txt\n",
      "cotedivoire2014.txt\n",
      "djibouti2013.txt\n",
      "fiji2014.txt\n",
      "jordan2013.txt\n",
      "kazakhstan2014.txt\n",
      "monaco2013.txt\n",
      "sanmarino2014.txt\n",
      "turkmenistan2013.txt\n",
      "tuvalu2013.txt\n"
     ]
    }
   ],
   "source": [
    "# SOLUTION\n",
    "dir = 'data/txts'\n",
    "for file_name in os.listdir(dir):\n",
    "    print(file_name)"
   ]
  },
  {
   "cell_type": "markdown",
   "metadata": {},
   "source": [
    "Modify the program to include only the file_names that end in `.txt`"
   ]
  },
  {
   "cell_type": "code",
   "execution_count": 29,
   "metadata": {
    "collapsed": false
   },
   "outputs": [
    {
     "name": "stdout",
     "output_type": "stream",
     "text": [
      "afghanistan2014.txt\n",
      "bangladesh2013.txt\n",
      "cotedivoire2014.txt\n",
      "djibouti2013.txt\n",
      "fiji2014.txt\n",
      "jordan2013.txt\n",
      "kazakhstan2014.txt\n",
      "monaco2013.txt\n",
      "sanmarino2014.txt\n",
      "turkmenistan2013.txt\n",
      "tuvalu2013.txt\n"
     ]
    }
   ],
   "source": [
    "# SOLUTION\n",
    "for file_name in os.listdir(dir):\n",
    "    if file_name.endswith(\".txt\"):\n",
    "        print(file_name)"
   ]
  },
  {
   "cell_type": "markdown",
   "metadata": {},
   "source": [
    "## 6.2 Process the documents\n",
    "\n",
    "Fill in the blanks below to process each document."
   ]
  },
  {
   "cell_type": "code",
   "execution_count": 30,
   "metadata": {
    "collapsed": false
   },
   "outputs": [
    {
     "name": "stdout",
     "output_type": "stream",
     "text": [
      "processing:  afghanistan2014.txt\n",
      "processing:  bangladesh2013.txt\n",
      "processing:  cotedivoire2014.txt\n",
      "processing:  djibouti2013.txt\n",
      "processing:  fiji2014.txt\n",
      "processing:  jordan2013.txt\n",
      "processing:  kazakhstan2014.txt\n",
      "processing:  monaco2013.txt\n",
      "processing:  sanmarino2014.txt\n",
      "processing:  turkmenistan2013.txt\n",
      "processing:  tuvalu2013.txt\n"
     ]
    }
   ],
   "source": [
    "# SOLUTION\n",
    "all_recs = []\n",
    "for file_name in os.listdir(dir):\n",
    "    if file_name.endswith(\".txt\"):\n",
    "        print(\"processing: \", file_name)\n",
    "        recs = process_document(file_name)\n",
    "        all_recs.extend(recs)"
   ]
  },
  {
   "cell_type": "code",
   "execution_count": 87,
   "metadata": {
    "collapsed": false
   },
   "outputs": [
    {
     "data": {
      "text/plain": [
       "1830"
      ]
     },
     "execution_count": 87,
     "metadata": {},
     "output_type": "execute_result"
    }
   ],
   "source": [
    "len(all_recs)"
   ]
  },
  {
   "cell_type": "markdown",
   "metadata": {},
   "source": [
    "## 6.3 Save to file\n",
    "\n",
    "Now we get to save our data_base to a CSV, and we're done!"
   ]
  },
  {
   "cell_type": "code",
   "execution_count": 92,
   "metadata": {
    "collapsed": false
   },
   "outputs": [],
   "source": [
    "#writing column headings\n",
    "import csv\n",
    "keys = all_recs[0].keys()\n",
    "\n",
    "#writing the rest\n",
    "with open('upr-recs.csv', 'w') as output_file:\n",
    "    dict_writer = csv.DictWriter(output_file, keys)\n",
    "    dict_writer.writeheader()\n",
    "    dict_writer.writerows(all_recs)"
   ]
  },
  {
   "cell_type": "code",
   "execution_count": null,
   "metadata": {
    "collapsed": true
   },
   "outputs": [],
   "source": []
  }
 ],
 "metadata": {
  "kernelspec": {
   "display_name": "Python 3",
   "language": "python",
   "name": "python3"
  },
  "language_info": {
   "codemirror_mode": {
    "name": "ipython",
    "version": 3
   },
   "file_extension": ".py",
   "mimetype": "text/x-python",
   "name": "python",
   "nbconvert_exporter": "python",
   "pygments_lexer": "ipython3",
   "version": "3.4.3"
  }
 },
 "nbformat": 4,
 "nbformat_minor": 0
}
