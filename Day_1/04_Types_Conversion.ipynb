{
 "cells": [
  {
   "cell_type": "markdown",
   "metadata": {},
   "source": [
    "# Data Types and Type Conversion\n",
    "\n",
    "**Time**\n",
    "- Teaching: 5 min\n",
    "- Challenges: 5 min\n",
    "\n",
    "**Questions**\n",
    "- \"What kinds of data do programs store?\"\n",
    "- \"How can I convert one type to another?\"\n",
    "\n",
    "**Learning Objectives**\n",
    "- \"Explain key differences between integers and floating point numbers.\"\n",
    "- \"Explain key differences between numbers and character strings.\"\n",
    "- \"Use built-in functions to convert between integers, floating point numbers, and strings.\"\n",
    "* * * * *"
   ]
  },
  {
   "cell_type": "markdown",
   "metadata": {},
   "source": [
    "## Every value has a type.\n",
    "\n",
    "*   Every value in a program has a specific type.\n",
    "*   Integer (`int`): counting numbers like 3 or -512.\n",
    "*   Floating point number (`float`): fractional numbers like 3.14159 or -2.5.\n",
    "    *   Integers are used to count, floats are used to measure.\n",
    "*   Character string (usually just called \"string\", `str`): text.\n",
    "    *   Written in either single quotes or double quotes (as long as they match).\n",
    "    *   The quotation marks aren't printed when the string is displayed.\n",
    "\n",
    "## Use the built-in function `type` to find the type of a value.\n",
    "\n",
    "*   Use the built-in function `type` to find out what type a value has.\n",
    "*   Works on variables as well.\n",
    "    *   But remember: the *value* has the type --- the *variable* is just a label.\n"
   ]
  },
  {
   "cell_type": "code",
   "execution_count": 1,
   "metadata": {
    "collapsed": false
   },
   "outputs": [
    {
     "name": "stdout",
     "output_type": "stream",
     "text": [
      "<class 'int'>\n"
     ]
    }
   ],
   "source": [
    "print(type(52))"
   ]
  },
  {
   "cell_type": "code",
   "execution_count": 4,
   "metadata": {
    "collapsed": false
   },
   "outputs": [
    {
     "name": "stdout",
     "output_type": "stream",
     "text": [
      "<class 'float'>\n"
     ]
    }
   ],
   "source": [
    "pi = 3.14159\n",
    "print(type(pi))"
   ]
  },
  {
   "cell_type": "code",
   "execution_count": 5,
   "metadata": {
    "collapsed": false
   },
   "outputs": [
    {
     "name": "stdout",
     "output_type": "stream",
     "text": [
      "<class 'str'>\n"
     ]
    }
   ],
   "source": [
    "fitness = 'average'\n",
    "print(type(fitness))"
   ]
  },
  {
   "cell_type": "markdown",
   "metadata": {},
   "source": [
    "## Types control what operations can be done on values.\n",
    "\n",
    "*   A value's type determines what the program can do to it."
   ]
  },
  {
   "cell_type": "code",
   "execution_count": 6,
   "metadata": {
    "collapsed": false
   },
   "outputs": [
    {
     "name": "stdout",
     "output_type": "stream",
     "text": [
      "2\n"
     ]
    }
   ],
   "source": [
    "print(5 - 3)"
   ]
  },
  {
   "cell_type": "code",
   "execution_count": 7,
   "metadata": {
    "collapsed": false
   },
   "outputs": [
    {
     "ename": "TypeError",
     "evalue": "unsupported operand type(s) for -: 'str' and 'str'",
     "output_type": "error",
     "traceback": [
      "\u001b[0;31m---------------------------------------------------------------------------\u001b[0m",
      "\u001b[0;31mTypeError\u001b[0m                                 Traceback (most recent call last)",
      "\u001b[0;32m<ipython-input-7-67f5626a1e07>\u001b[0m in \u001b[0;36m<module>\u001b[0;34m()\u001b[0m\n\u001b[0;32m----> 1\u001b[0;31m \u001b[0mprint\u001b[0m\u001b[0;34m(\u001b[0m\u001b[0;34m'hello'\u001b[0m \u001b[0;34m-\u001b[0m \u001b[0;34m'h'\u001b[0m\u001b[0;34m)\u001b[0m\u001b[0;34m\u001b[0m\u001b[0m\n\u001b[0m",
      "\u001b[0;31mTypeError\u001b[0m: unsupported operand type(s) for -: 'str' and 'str'"
     ]
    }
   ],
   "source": [
    "print('hello' - 'h')"
   ]
  },
  {
   "cell_type": "markdown",
   "metadata": {},
   "source": [
    "## Strings can be added and multiplied.\n",
    "\n",
    "*   \"Adding\" character strings concatenates them.\n"
   ]
  },
  {
   "cell_type": "code",
   "execution_count": 9,
   "metadata": {
    "collapsed": false
   },
   "outputs": [
    {
     "name": "stdout",
     "output_type": "stream",
     "text": [
      "Ahmed Walsh\n"
     ]
    }
   ],
   "source": [
    "full_name = 'Ahmed' + ' ' + 'Walsh'\n",
    "print(full_name)"
   ]
  },
  {
   "cell_type": "markdown",
   "metadata": {},
   "source": [
    "*   Multiplying a character string by an integer replicates it.\n",
    "    *   Since multiplication is just repeated addition.\n"
   ]
  },
  {
   "cell_type": "code",
   "execution_count": 10,
   "metadata": {
    "collapsed": false
   },
   "outputs": [
    {
     "name": "stdout",
     "output_type": "stream",
     "text": [
      "==========\n"
     ]
    }
   ],
   "source": [
    "separator = '=' * 10\n",
    "print(separator)"
   ]
  },
  {
   "cell_type": "markdown",
   "metadata": {},
   "source": [
    "## Strings have a length (but numbers don't).\n",
    "\n",
    "*   The built-in function `len` counts the number of characters in a string."
   ]
  },
  {
   "cell_type": "code",
   "execution_count": 12,
   "metadata": {
    "collapsed": false
   },
   "outputs": [
    {
     "name": "stdout",
     "output_type": "stream",
     "text": [
      "11\n"
     ]
    }
   ],
   "source": [
    "print(len(full_name))"
   ]
  },
  {
   "cell_type": "markdown",
   "metadata": {},
   "source": [
    "*   But numbers don't have a length (not even zero)."
   ]
  },
  {
   "cell_type": "code",
   "execution_count": 14,
   "metadata": {
    "collapsed": false
   },
   "outputs": [
    {
     "ename": "TypeError",
     "evalue": "object of type 'int' has no len()",
     "output_type": "error",
     "traceback": [
      "\u001b[0;31m---------------------------------------------------------------------------\u001b[0m",
      "\u001b[0;31mTypeError\u001b[0m                                 Traceback (most recent call last)",
      "\u001b[0;32m<ipython-input-14-f769e8e8097d>\u001b[0m in \u001b[0;36m<module>\u001b[0;34m()\u001b[0m\n\u001b[0;32m----> 1\u001b[0;31m \u001b[0mprint\u001b[0m\u001b[0;34m(\u001b[0m\u001b[0mlen\u001b[0m\u001b[0;34m(\u001b[0m\u001b[0;36m52\u001b[0m\u001b[0;34m)\u001b[0m\u001b[0;34m)\u001b[0m\u001b[0;34m\u001b[0m\u001b[0m\n\u001b[0m",
      "\u001b[0;31mTypeError\u001b[0m: object of type 'int' has no len()"
     ]
    }
   ],
   "source": [
    "print(len(52))"
   ]
  },
  {
   "cell_type": "markdown",
   "metadata": {},
   "source": [
    "## Must convert numbers to strings or vice versa when operating on them.\n",
    "\n",
    "*   Cannot add numbers and strings."
   ]
  },
  {
   "cell_type": "code",
   "execution_count": 18,
   "metadata": {
    "collapsed": false
   },
   "outputs": [
    {
     "ename": "TypeError",
     "evalue": "unsupported operand type(s) for +: 'int' and 'str'",
     "output_type": "error",
     "traceback": [
      "\u001b[0;31m---------------------------------------------------------------------------\u001b[0m",
      "\u001b[0;31mTypeError\u001b[0m                                 Traceback (most recent call last)",
      "\u001b[0;32m<ipython-input-18-fe4f54a023c6>\u001b[0m in \u001b[0;36m<module>\u001b[0;34m()\u001b[0m\n\u001b[0;32m----> 1\u001b[0;31m \u001b[0mprint\u001b[0m\u001b[0;34m(\u001b[0m\u001b[0;36m1\u001b[0m \u001b[0;34m+\u001b[0m \u001b[0;34m'2'\u001b[0m\u001b[0;34m)\u001b[0m\u001b[0;34m\u001b[0m\u001b[0m\n\u001b[0m",
      "\u001b[0;31mTypeError\u001b[0m: unsupported operand type(s) for +: 'int' and 'str'"
     ]
    }
   ],
   "source": [
    "print(1 + '2')"
   ]
  },
  {
   "cell_type": "markdown",
   "metadata": {},
   "source": [
    "*   Not allowed because it's ambiguous: should `1 + '2'` be `3` or `'12'`?\n",
    "*   Use the name of a type as a function to convert a value to that type."
   ]
  },
  {
   "cell_type": "code",
   "execution_count": 17,
   "metadata": {
    "collapsed": false
   },
   "outputs": [
    {
     "name": "stdout",
     "output_type": "stream",
     "text": [
      "3\n",
      "12\n"
     ]
    }
   ],
   "source": [
    "print(1 + int('2'))\n",
    "print(str(1) + '2')"
   ]
  },
  {
   "cell_type": "markdown",
   "metadata": {},
   "source": [
    "## Can mix integers and floats freely in operations.\n",
    "\n",
    "*   Integers and floating-point numbers can be mixed in arithmetic.\n",
    "    *   Python automatically converts integers to floats as needed."
   ]
  },
  {
   "cell_type": "code",
   "execution_count": 19,
   "metadata": {
    "collapsed": false
   },
   "outputs": [
    {
     "name": "stdout",
     "output_type": "stream",
     "text": [
      "half is 0.5\n",
      "three squared is 9.0\n"
     ]
    }
   ],
   "source": [
    "print('half is', 1 / 2.0)\n",
    "print('three squared is', 3.0 ** 2)"
   ]
  },
  {
   "cell_type": "markdown",
   "metadata": {},
   "source": [
    "## Variables only change value when something is assigned to them.\n",
    "\n",
    "*   If we make one cell in a spreadsheet depend on another,\n",
    "    and update the latter,\n",
    "    the former updates automatically.\n",
    "*   This does *not* happen in programming languages."
   ]
  },
  {
   "cell_type": "code",
   "execution_count": 20,
   "metadata": {
    "collapsed": false
   },
   "outputs": [
    {
     "name": "stdout",
     "output_type": "stream",
     "text": [
      "first is 2 and second is 5\n"
     ]
    }
   ],
   "source": [
    "first = 1\n",
    "second = 5 * first\n",
    "first = 2\n",
    "print('first is', first, 'and second is', second)"
   ]
  },
  {
   "cell_type": "markdown",
   "metadata": {},
   "source": [
    "*   The computer reads the value of `first` when doing the multiplication,\n",
    "    creates a new value, and assigns it to `second`.\n",
    "*   After that, `second` does not remember where it came from."
   ]
  },
  {
   "cell_type": "markdown",
   "metadata": {},
   "source": [
    "*   The computer reads the value of `first` when doing the multiplication,\n",
    "    creates a new value, and assigns it to `second`.\n",
    "*   After that, `second` does not remember where it came from."
   ]
  },
  {
   "cell_type": "markdown",
   "metadata": {},
   "source": [
    "## Challenge 1: Choose a Type\n",
    "\n",
    "What type of value (integer, floating point number, or character string) would you use to represent each of the following?\n",
    "\n",
    "1. Number of days since the start of the year.\n",
    "2. Time elapsed since the start of the year.\n",
    "4. Zip code of a field site\n",
    "5. An interview subject's age.\n",
    "6. Current population of a city.\n",
    "8. Average population of a city over time."
   ]
  },
  {
   "cell_type": "markdown",
   "metadata": {},
   "source": [
    "## Challenge 2: Division Types\n",
    "\n",
    "The `//` operator calculates the whole-number result of division, while the '%' operator calculates the remainder from division:"
   ]
  },
  {
   "cell_type": "code",
   "execution_count": 22,
   "metadata": {
    "collapsed": false
   },
   "outputs": [
    {
     "name": "stdout",
     "output_type": "stream",
     "text": [
      "5 // 3: 1\n",
      "5 % 3: 2\n"
     ]
    }
   ],
   "source": [
    "print('5 // 3:', 5//3)\n",
    "print('5 % 3:', 5%3)"
   ]
  },
  {
   "cell_type": "markdown",
   "metadata": {},
   "source": [
    "If `num_subjects` is the number of subjects taking part in a study, and `num_per_survey` is the number that can take part in a single survey, write an expression that calculates the number of surveys needed to reach everyone once."
   ]
  },
  {
   "cell_type": "code",
   "execution_count": null,
   "metadata": {
    "collapsed": true
   },
   "outputs": [],
   "source": []
  },
  {
   "cell_type": "markdown",
   "metadata": {},
   "source": [
    "## Challenge 3: Strings to Numbers\n",
    "\n",
    " `float` will convert a string to a floating point number, and `int` will convert a floating point number to an integer:\n"
   ]
  },
  {
   "cell_type": "code",
   "execution_count": 23,
   "metadata": {
    "collapsed": false
   },
   "outputs": [
    {
     "name": "stdout",
     "output_type": "stream",
     "text": [
      "string to float: 3.4\n",
      "float to int: 3\n"
     ]
    }
   ],
   "source": [
    "print(\"string to float:\", float(\"3.4\"))\n",
    "print(\"float to int:\", int(3.4))"
   ]
  },
  {
   "cell_type": "markdown",
   "metadata": {},
   "source": [
    "Given that, what do you expect this program to do? What does it actually do? Why do you think it does that?"
   ]
  },
  {
   "cell_type": "code",
   "execution_count": 24,
   "metadata": {
    "collapsed": false
   },
   "outputs": [
    {
     "ename": "ValueError",
     "evalue": "invalid literal for int() with base 10: '3.4'",
     "output_type": "error",
     "traceback": [
      "\u001b[0;31m---------------------------------------------------------------------------\u001b[0m",
      "\u001b[0;31mValueError\u001b[0m                                Traceback (most recent call last)",
      "\u001b[0;32m<ipython-input-24-f025fc4d9856>\u001b[0m in \u001b[0;36m<module>\u001b[0;34m()\u001b[0m\n\u001b[0;32m----> 1\u001b[0;31m \u001b[0mprint\u001b[0m\u001b[0;34m(\u001b[0m\u001b[0;34m\"fractional string to int:\"\u001b[0m\u001b[0;34m,\u001b[0m \u001b[0mint\u001b[0m\u001b[0;34m(\u001b[0m\u001b[0;34m\"3.4\"\u001b[0m\u001b[0;34m)\u001b[0m\u001b[0;34m)\u001b[0m\u001b[0;34m\u001b[0m\u001b[0m\n\u001b[0m",
      "\u001b[0;31mValueError\u001b[0m: invalid literal for int() with base 10: '3.4'"
     ]
    }
   ],
   "source": [
    "print(\"fractional string to int:\", int(\"3.4\"))"
   ]
  },
  {
   "cell_type": "markdown",
   "metadata": {},
   "source": [
    "## Challenge 4: Arithmetic with Different Types\n",
    "\n",
    "Which of the following will print 2.0?\n",
    "\n",
    "Note: there may be more than one right answer."
   ]
  },
  {
   "cell_type": "code",
   "execution_count": null,
   "metadata": {
    "collapsed": true
   },
   "outputs": [],
   "source": [
    "first = 1.0\n",
    "second = \"1\"\n",
    "third = \"1.1\""
   ]
  },
  {
   "cell_type": "markdown",
   "metadata": {},
   "source": [
    "1. `first + float(second)`\n",
    "2. `float(second) + float(third)`\n",
    "3. `first + int(third)`\n",
    "4. `first + int(float(third))`\n",
    "5. `int(first) + int(float(third))`\n",
    "6. `2.0 * second`"
   ]
  },
  {
   "cell_type": "markdown",
   "metadata": {},
   "source": [
    "*****\n",
    "\n",
    "# Keypoints\n",
    "\n",
    "- \"Every value has a type.\"\n",
    "- \"Use the built-in function `type` to find the type of a value.\"\n",
    "- \"Types control what operations can be done on values.\"\n",
    "- \"Strings can be added and multiplied.\"\n",
    "- \"Strings have a length (but numbers don't).\"\n",
    "- \"Must convert numbers to strings or vice versa when operating on them.\"\n",
    "- \"Can mix integers and floats freely in operations.\"\n",
    "- \"Variables only change value when something is assigned to them.\"\n"
   ]
  },
  {
   "cell_type": "code",
   "execution_count": null,
   "metadata": {
    "collapsed": true
   },
   "outputs": [],
   "source": []
  }
 ],
 "metadata": {
  "kernelspec": {
   "display_name": "Python 3",
   "language": "python",
   "name": "python3"
  },
  "language_info": {
   "codemirror_mode": {
    "name": "ipython",
    "version": 3
   },
   "file_extension": ".py",
   "mimetype": "text/x-python",
   "name": "python",
   "nbconvert_exporter": "python",
   "pygments_lexer": "ipython3",
   "version": "3.4.3"
  }
 },
 "nbformat": 4,
 "nbformat_minor": 0
}
